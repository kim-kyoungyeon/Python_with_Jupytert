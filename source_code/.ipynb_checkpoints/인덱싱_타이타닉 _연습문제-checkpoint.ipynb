{
 "cells": [
  {
   "cell_type": "markdown",
   "metadata": {},
   "source": [
    "데이터프레임인덱싱\n",
    "\n",
    "월요일 내용 복습: \n",
    "    인덱스 행 커럼스 열\n",
    "    df.index\n",
    "    df. column label특정열 이;ㄴ덱싱 / 문자/정수? /\n",
    "    df['지역' 하나만 인덱스 :열] - 행 인덱스 오류\n",
    "    시리즈: \n",
    "        여러행 df [[]] 결과 데이터프레임\n",
    "        문자라벨= df['2010'] 문자 정수값오류\n",
    "        num타입 np  값 pd. DetaFrqame(np.arrange)\n",
    "        어레인지: 숫자 reshape 몇행몇열\n",
    "            정수인덱스\n",
    "            df2 [2]\n",
    "            df2 [[2,4]]\n",
    "            df2.values -\n",
    "            df2.shape\n",
    "            df2.size 타입\n",
    "            ㄴ 열타입은 1개의 값만\n",
    "행인덱싱 행추출\n",
    "슬라이싱 가능\n",
    "df[start:end] 한개라도 1개행이라도 슬라이싱 해야함\n",
    "df[:1] :슬라이싱해야 행인줄안다\n",
    "    1개값만 넣은면 열인덱싱\n",
    "    df.iloc > 연속되지 않다 \n",
    "    df.loc \n",
    "        \n",
    "    개별 데이터인덱싱\n",
    "행= 열이 위치한 데이터추출 df [열][행]\n",
    "스칼라값: 하나의 값\n",
    "    전치: 행과 열 위치바꾸기\n",
    "        df.T\n",
    "# 정리:\n",
    "데이터프레임\n",
    "인덱싱: 열대상/ 문자-라벨 /1개의 열시리즈 여러개의 열 -데이터프레임반환\n",
    "    1개의열 [] 정수인덱싱\n",
    "    #슬라이싱 행 대상\n",
    "인덱스가 정수 문자 다 슬라이싱가능 = 데이터프레임\n",
    "인덱스>> 시리즈 >> 전치하면함\n",
    "\n",
    "\n",
    "        \n"
   ]
  },
  {
   "cell_type": "markdown",
   "metadata": {},
   "source": [
    "#고급인덱싱...\n",
    "인덱 \n",
    "판다스 [행인덱스,열인덱스 형식] mumpy\n",
    "loc 라벨값2차원 이름이문자인경우\n",
    "iloc 순서 나타내는 정수기반 2차원 인데싱\n",
    "at \n",
    "\n",
    "df.loc[행인덱싱값]값을하남나 넣으면 행선택\n",
    "df.loc[행값,열값]\n",
    "\n",
    "loc 문자인덱시인경우 행추출 \n",
    "1개의 행선택\n",
    "여러개 리스트묶기 df.loc[[]]\n",
    "행 슬라이싱 [:]\n",
    "loc 쓰던 안쓰던 슬라이싱값비슷\n",
    "df.loc[df.A>15] #이렇게쓸수도있따\n",
    "함수로 인덱스값을 반환하는 함수를 만들수도있따.\n",
    "def select_rows(df):\n",
    "return\n",
    ";loc 인덱스 > 정수인덱스만 문자는 start end 정수는 start end-1\n",
    "df2.loc[0:2] #문자 인덱스과 동일한 범위로 선택 > 혼동될시 하나만 정해서 \n",
    "정수형/문자형\n",
    "df.loc[행인덱스,열인덱스]\n",
    "df.loc['a','A'] a행 A열의값\n",
    "df loc [행의값,열의값] 콤마기준 [[],[]]이렇게가능\n",
    "iloc 정수인덱스만 받음\n",
    "start :end-1 정수기반\n",
    "at end 인덱스\n",
    "\n"
   ]
  },
  {
   "cell_type": "markdown",
   "metadata": {},
   "source": [
    "# 데이터프레임조작\n",
    "# 데이터갯수세기 count 시리즈 na값 안셈\n",
    "# r각열마다 데이터개수 세기\n",
    "# 데이터 : 0-4  \n",
    "    df= pd.DataFrmae(np.random.randint(6,\n",
    "                                      size=(4,4),\n",
    "                                      dtype=float)\n",
    "                     df.count()"
   ]
  },
  {
   "cell_type": "code",
   "execution_count": 8,
   "metadata": {},
   "outputs": [],
   "source": [
    "import seaborn \n",
    "import pandas as pd"
   ]
  },
  {
   "cell_type": "markdown",
   "metadata": {},
   "source": [
    "titanic.count()"
   ]
  },
  {
   "cell_type": "markdown",
   "metadata": {},
   "source": [
    "캬테고리값 세기\n",
    "np.random.seed(1)"
   ]
  },
  {
   "cell_type": "markdown",
   "metadata": {},
   "source": [
    "value_count > 벨류중에서 카운트\n",
    "열마다 별도로 지정\n",
    "#정렬 인덱스값 sort_index\n",
    "sort_values : ascending(오름차순) =False 내림차순\n",
    "nan값 제일마지막\n",
    "sort_values 메소드> by 인수 로 정렬 기준으로 열정렬됨\n",
    "by=[1,2] 1차정려 2차정렬로 정렬 1열 기준 1차 동일한 값이 존재할시2열 기준 2차정렬수행\n",
    "#행열합계\n",
    "sum(axis=0)열합계\n",
    "sum(axis=1)행합계\n"
   ]
  },
  {
   "cell_type": "markdown",
   "metadata": {},
   "source": [
    "## apply()변환\n",
    "행이나 열 단위로 더 복잡한 처리를 할때 apply 매소드 사용\n",
    "인수로 행 또는 열 을 받는 함수를 \n",
    "apply 메소드의 인수로 넣으면\n",
    "각 열 또는 행 을 반복해서 그 함수에 적용\n"
   ]
  },
  {
   "cell_type": "code",
   "execution_count": 18,
   "metadata": {},
   "outputs": [
    {
     "data": {
      "text/html": [
       "<div>\n",
       "<style scoped>\n",
       "    .dataframe tbody tr th:only-of-type {\n",
       "        vertical-align: middle;\n",
       "    }\n",
       "\n",
       "    .dataframe tbody tr th {\n",
       "        vertical-align: top;\n",
       "    }\n",
       "\n",
       "    .dataframe thead th {\n",
       "        text-align: right;\n",
       "    }\n",
       "</style>\n",
       "<table border=\"1\" class=\"dataframe\">\n",
       "  <thead>\n",
       "    <tr style=\"text-align: right;\">\n",
       "      <th></th>\n",
       "      <th>A</th>\n",
       "      <th>B</th>\n",
       "      <th>C</th>\n",
       "    </tr>\n",
       "  </thead>\n",
       "  <tbody>\n",
       "    <tr>\n",
       "      <th>0</th>\n",
       "      <td>1</td>\n",
       "      <td>2</td>\n",
       "      <td>1</td>\n",
       "    </tr>\n",
       "    <tr>\n",
       "      <th>1</th>\n",
       "      <td>3</td>\n",
       "      <td>3</td>\n",
       "      <td>5</td>\n",
       "    </tr>\n",
       "    <tr>\n",
       "      <th>2</th>\n",
       "      <td>4</td>\n",
       "      <td>1</td>\n",
       "      <td>2</td>\n",
       "    </tr>\n",
       "    <tr>\n",
       "      <th>3</th>\n",
       "      <td>3</td>\n",
       "      <td>2</td>\n",
       "      <td>4</td>\n",
       "    </tr>\n",
       "    <tr>\n",
       "      <th>4</th>\n",
       "      <td>4</td>\n",
       "      <td>3</td>\n",
       "      <td>4</td>\n",
       "    </tr>\n",
       "  </tbody>\n",
       "</table>\n",
       "</div>"
      ],
      "text/plain": [
       "   A  B  C\n",
       "0  1  2  1\n",
       "1  3  3  5\n",
       "2  4  1  2\n",
       "3  3  2  4\n",
       "4  4  3  4"
      ]
     },
     "execution_count": 18,
     "metadata": {},
     "output_type": "execute_result"
    }
   ],
   "source": [
    "df3= pd.DataFrame({\n",
    "    'A':[1,3,4,3,4],\n",
    "    'B':[2,3,1,2,3],\n",
    "    'C':[1,5,2,4,4]\n",
    "})\n",
    "df3"
   ]
  },
  {
   "cell_type": "code",
   "execution_count": 23,
   "metadata": {},
   "outputs": [
    {
     "data": {
      "text/plain": [
       "A    3\n",
       "B    2\n",
       "C    4\n",
       "dtype: int64"
      ]
     },
     "execution_count": 23,
     "metadata": {},
     "output_type": "execute_result"
    }
   ],
   "source": [
    "# 각열의 최대값 최소값 차이구하기\n",
    "# -apply()함수 사용\n",
    "# -적용할 함수를 람다 함수사용\n",
    "# - apply 함수에서 axis =0 디폴트 생략 : 열 적용\n",
    "# apply 함수에서 aixs-0 디폴트로 열에적용 \n",
    "df3.apply(lambda x : x.max()-x.min())\n"
   ]
  },
  {
   "cell_type": "code",
   "execution_count": 24,
   "metadata": {},
   "outputs": [
    {
     "data": {
      "text/plain": [
       "A    3\n",
       "B    2\n",
       "C    4\n",
       "dtype: int64"
      ]
     },
     "execution_count": 24,
     "metadata": {},
     "output_type": "execute_result"
    }
   ],
   "source": [
    "# aixs=0 생략가능 \n",
    "df3.apply(lambda x : x.max()-x.min(), axis=0) #결과동일\n"
   ]
  },
  {
   "cell_type": "code",
   "execution_count": 25,
   "metadata": {},
   "outputs": [
    {
     "data": {
      "text/plain": [
       "0    1\n",
       "1    2\n",
       "2    3\n",
       "3    2\n",
       "4    1\n",
       "dtype: int64"
      ]
     },
     "execution_count": 25,
     "metadata": {},
     "output_type": "execute_result"
    }
   ],
   "source": [
    "#axix=1로 행에 적용\n",
    "df3.apply(lambda x : x.max()-x.min(), axis=1) "
   ]
  },
  {
   "cell_type": "markdown",
   "metadata": {},
   "source": [
    "#lambda : lamda 입력되는 값: 출려되는 값\n",
    "#입력되는 값으로 주어진 식을 수행한 후 값 반환 출력 :return\n",
    "#axis =0 디폴트 열값\n",
    "# (lambda a,b : a+b) (3,5)\n",
    "\n"
   ]
  },
  {
   "cell_type": "markdown",
   "metadata": {},
   "source": [
    "#람다식 : lambda\n",
    "lamda: 실행시 (런타임) 생성해서 사용할 수 있는 익명함수 \n",
    "익명함수 :이름이 없는 함수\n",
    "입력과 출력이 있는 간단한 한행짜리 함수를 만들때ㅔ 사용       \n",
    "같은 함수를 def로 정의할때보다 간결\n",
    "형식 : lambda매개변수(입력) :표현식(출력)\n",
    "사용 : (lambda 매개변수 : 리턴값) (함수로 전달되는 값)\n",
    "   - (lambda a,b : a+b)(3,5)\n",
    "\n",
    "\n",
    "\n",
    "\n"
   ]
  },
  {
   "cell_type": "code",
   "execution_count": 19,
   "metadata": {},
   "outputs": [
    {
     "data": {
      "text/plain": [
       "8"
      ]
     },
     "execution_count": 19,
     "metadata": {},
     "output_type": "execute_result"
    }
   ],
   "source": [
    "#def로 정의한 함수\n",
    "def add(a,b) :\n",
    "    return a+b\n",
    "add(3,5)"
   ]
  },
  {
   "cell_type": "code",
   "execution_count": 22,
   "metadata": {},
   "outputs": [
    {
     "data": {
      "text/plain": [
       "8"
      ]
     },
     "execution_count": 22,
     "metadata": {},
     "output_type": "execute_result"
    }
   ],
   "source": [
    "#람다식으로 표현\n",
    "(lambda a,b : a + b)(3,5)"
   ]
  },
  {
   "cell_type": "markdown",
   "metadata": {},
   "source": [
    "각열에 대해 어떤 값이 얼마나 사용되었는지 몇번이나 나왔는지 \n",
    "빈도수 확인 \n",
    "각 열에서 어떤값의 빈도수 출력 \n",
    "value_counts() 함수사용\n",
    "데이터프레임에서 열 마다 적용\n",
    "#0열 인경우 :#df[0].value_counts()\n",
    "\n",
    "\n",
    "\n"
   ]
  },
  {
   "cell_type": "code",
   "execution_count": 26,
   "metadata": {},
   "outputs": [
    {
     "data": {
      "text/html": [
       "<div>\n",
       "<style scoped>\n",
       "    .dataframe tbody tr th:only-of-type {\n",
       "        vertical-align: middle;\n",
       "    }\n",
       "\n",
       "    .dataframe tbody tr th {\n",
       "        vertical-align: top;\n",
       "    }\n",
       "\n",
       "    .dataframe thead th {\n",
       "        text-align: right;\n",
       "    }\n",
       "</style>\n",
       "<table border=\"1\" class=\"dataframe\">\n",
       "  <thead>\n",
       "    <tr style=\"text-align: right;\">\n",
       "      <th></th>\n",
       "      <th>A</th>\n",
       "      <th>B</th>\n",
       "      <th>C</th>\n",
       "    </tr>\n",
       "  </thead>\n",
       "  <tbody>\n",
       "    <tr>\n",
       "      <th>0</th>\n",
       "      <td>1</td>\n",
       "      <td>2</td>\n",
       "      <td>1</td>\n",
       "    </tr>\n",
       "    <tr>\n",
       "      <th>1</th>\n",
       "      <td>3</td>\n",
       "      <td>3</td>\n",
       "      <td>5</td>\n",
       "    </tr>\n",
       "    <tr>\n",
       "      <th>2</th>\n",
       "      <td>4</td>\n",
       "      <td>1</td>\n",
       "      <td>2</td>\n",
       "    </tr>\n",
       "    <tr>\n",
       "      <th>3</th>\n",
       "      <td>3</td>\n",
       "      <td>2</td>\n",
       "      <td>4</td>\n",
       "    </tr>\n",
       "    <tr>\n",
       "      <th>4</th>\n",
       "      <td>4</td>\n",
       "      <td>3</td>\n",
       "      <td>4</td>\n",
       "    </tr>\n",
       "  </tbody>\n",
       "</table>\n",
       "</div>"
      ],
      "text/plain": [
       "   A  B  C\n",
       "0  1  2  1\n",
       "1  3  3  5\n",
       "2  4  1  2\n",
       "3  3  2  4\n",
       "4  4  3  4"
      ]
     },
     "execution_count": 26,
     "metadata": {},
     "output_type": "execute_result"
    }
   ],
   "source": [
    "df3 "
   ]
  },
  {
   "cell_type": "code",
   "execution_count": 30,
   "metadata": {},
   "outputs": [
    {
     "data": {
      "text/plain": [
       "4    2\n",
       "3    2\n",
       "1    1\n",
       "Name: A, dtype: int64"
      ]
     },
     "execution_count": 30,
     "metadata": {},
     "output_type": "execute_result"
    }
   ],
   "source": [
    "#df3.value_counts() #에러발생\n",
    "# 데이터프레임에 적용할수 없고 열마다 적용해야한다\n",
    "df3['A'].value_counts()"
   ]
  },
  {
   "cell_type": "code",
   "execution_count": 31,
   "metadata": {},
   "outputs": [
    {
     "data": {
      "text/html": [
       "<div>\n",
       "<style scoped>\n",
       "    .dataframe tbody tr th:only-of-type {\n",
       "        vertical-align: middle;\n",
       "    }\n",
       "\n",
       "    .dataframe tbody tr th {\n",
       "        vertical-align: top;\n",
       "    }\n",
       "\n",
       "    .dataframe thead th {\n",
       "        text-align: right;\n",
       "    }\n",
       "</style>\n",
       "<table border=\"1\" class=\"dataframe\">\n",
       "  <thead>\n",
       "    <tr style=\"text-align: right;\">\n",
       "      <th></th>\n",
       "      <th>A</th>\n",
       "      <th>B</th>\n",
       "      <th>C</th>\n",
       "    </tr>\n",
       "  </thead>\n",
       "  <tbody>\n",
       "    <tr>\n",
       "      <th>1</th>\n",
       "      <td>1.0</td>\n",
       "      <td>1.0</td>\n",
       "      <td>1.0</td>\n",
       "    </tr>\n",
       "    <tr>\n",
       "      <th>2</th>\n",
       "      <td>NaN</td>\n",
       "      <td>2.0</td>\n",
       "      <td>1.0</td>\n",
       "    </tr>\n",
       "    <tr>\n",
       "      <th>3</th>\n",
       "      <td>2.0</td>\n",
       "      <td>2.0</td>\n",
       "      <td>NaN</td>\n",
       "    </tr>\n",
       "    <tr>\n",
       "      <th>4</th>\n",
       "      <td>2.0</td>\n",
       "      <td>NaN</td>\n",
       "      <td>2.0</td>\n",
       "    </tr>\n",
       "    <tr>\n",
       "      <th>5</th>\n",
       "      <td>NaN</td>\n",
       "      <td>NaN</td>\n",
       "      <td>1.0</td>\n",
       "    </tr>\n",
       "  </tbody>\n",
       "</table>\n",
       "</div>"
      ],
      "text/plain": [
       "     A    B    C\n",
       "1  1.0  1.0  1.0\n",
       "2  NaN  2.0  1.0\n",
       "3  2.0  2.0  NaN\n",
       "4  2.0  NaN  2.0\n",
       "5  NaN  NaN  1.0"
      ]
     },
     "execution_count": 31,
     "metadata": {},
     "output_type": "execute_result"
    }
   ],
   "source": [
    "#apply(메소드)를 사용하면 모든 열에 한번에 사용가능\n",
    "df3.apply(pd.value_counts)\n",
    "#A 열에서 1은 1번 2는0번 3은 2번"
   ]
  },
  {
   "cell_type": "markdown",
   "metadata": {},
   "source": [
    "<!-- #현재 실수로 되어있는 빈도수를 정수로 변환\n",
    "#astype(int)함수사용\n",
    "# df3.apply(pd.value_counts).astype(int) \n",
    "# #Nan 값때문에 에러남\n",
    "# 실수로 되어있는 빈도수를 정수형(int)형변환 하는데 에러발생\n",
    "# 이유: 결측값(NaN)이 존재하기떄문\n",
    "# 결측값은 연산할수없으므로 연산 시 오류 발생\n",
    " -->\n",
    "    "
   ]
  },
  {
   "cell_type": "code",
   "execution_count": 34,
   "metadata": {},
   "outputs": [
    {
     "data": {
      "text/html": [
       "<div>\n",
       "<style scoped>\n",
       "    .dataframe tbody tr th:only-of-type {\n",
       "        vertical-align: middle;\n",
       "    }\n",
       "\n",
       "    .dataframe tbody tr th {\n",
       "        vertical-align: top;\n",
       "    }\n",
       "\n",
       "    .dataframe thead th {\n",
       "        text-align: right;\n",
       "    }\n",
       "</style>\n",
       "<table border=\"1\" class=\"dataframe\">\n",
       "  <thead>\n",
       "    <tr style=\"text-align: right;\">\n",
       "      <th></th>\n",
       "      <th>A</th>\n",
       "      <th>B</th>\n",
       "      <th>C</th>\n",
       "    </tr>\n",
       "  </thead>\n",
       "  <tbody>\n",
       "    <tr>\n",
       "      <th>1</th>\n",
       "      <td>1</td>\n",
       "      <td>1</td>\n",
       "      <td>1</td>\n",
       "    </tr>\n",
       "    <tr>\n",
       "      <th>2</th>\n",
       "      <td>0</td>\n",
       "      <td>2</td>\n",
       "      <td>1</td>\n",
       "    </tr>\n",
       "    <tr>\n",
       "      <th>3</th>\n",
       "      <td>2</td>\n",
       "      <td>2</td>\n",
       "      <td>0</td>\n",
       "    </tr>\n",
       "    <tr>\n",
       "      <th>4</th>\n",
       "      <td>2</td>\n",
       "      <td>0</td>\n",
       "      <td>2</td>\n",
       "    </tr>\n",
       "    <tr>\n",
       "      <th>5</th>\n",
       "      <td>0</td>\n",
       "      <td>0</td>\n",
       "      <td>1</td>\n",
       "    </tr>\n",
       "  </tbody>\n",
       "</table>\n",
       "</div>"
      ],
      "text/plain": [
       "   A  B  C\n",
       "1  1  1  1\n",
       "2  0  2  1\n",
       "3  2  2  0\n",
       "4  2  0  2\n",
       "5  0  0  1"
      ]
     },
     "execution_count": 34,
     "metadata": {},
     "output_type": "execute_result"
    }
   ],
   "source": [
    "#결측값을 0으로 변경한 후 정수형으로 변환\n",
    "#결측값을 다른값으로 채우는 함수 fillna(0)\n",
    "df3.apply(pd.value_counts).fillna(0).astype(int)"
   ]
  },
  {
   "cell_type": "markdown",
   "metadata": {},
   "source": [
    "#실수 값을 카테고리 값으로 변환\n",
    "실수값은 크기 기준으로 해서 카테고리 값으로 변환함수\n",
    "-cut() : 실수값의 경계선을 지정하는 경우\n",
    "-qcut() : 개수가 동일한 구간으로 나누는 경우\n",
    "\n",
    "    \n"
   ]
  },
  {
   "cell_type": "markdown",
   "metadata": {},
   "source": [
    "cut()함수 : 실수값의 경계선을 지정하는 경우\n",
    "- 예를 들어 나이(0,15,20,30,23,...100) 까지 있을떄 \n",
    "경계선 나이를 1, 15, 25, ... 지정해서 \n",
    "- 카테고리: 미성년자, 청년,중년,노년 ... 등의 카테고리로 나눌경우\n",
    "- cut 함수 사용 \n"
   ]
  },
  {
   "cell_type": "code",
   "execution_count": 36,
   "metadata": {},
   "outputs": [],
   "source": [
    "#나이값 설정\n",
    "ages=[0,2,10,21,23,37,31,61,20,41,32,100] \n",
    "#length: 12\n",
    "\n",
    "\n",
    "\n",
    "\n",
    "\n",
    "\n",
    "\n"
   ]
  },
  {
   "cell_type": "code",
   "execution_count": 37,
   "metadata": {},
   "outputs": [
    {
     "data": {
      "text/plain": [
       "[NaN, 미성년자, 미성년자, 청년, 청년, ..., 노년, 청년, 장년, 중년, NaN]\n",
       "Length: 12\n",
       "Categories (5, object): [미성년자 < 청년 < 중년 < 장년 < 노년]"
      ]
     },
     "execution_count": 37,
     "metadata": {},
     "output_type": "execute_result"
    }
   ],
   "source": [
    "# cut 함수 : 실수값을 카테고리 값으로 변환할수있다\n",
    "# bins 인수 : 카테고리를 나누는 기준값\n",
    "# 영역을 ㅂ서어나는 값 : Nan 으로 처리\n",
    "#카테고리 나누는 기준\n",
    "bins = [1,15,25,35,60,99]\n",
    "labels= ['미성년자','청년','중년','장년','노년']\n",
    "#cut 함수 적용한 결과_ 변수에 저장\n",
    "ctgs= pd.cut(ages,bins,labels=labels)\n",
    "ctgs\n"
   ]
  },
  {
   "cell_type": "code",
   "execution_count": null,
   "metadata": {},
   "outputs": [],
   "source": [
    "cut 함수 반환값은 Categorical 클래스의 Categories 속성이다\n",
    "Categories 속성: 라벨 문자열의 카테고리 값 \n",
    "codes 속성: 정수로 인코딩된 카테고리 값\n",
    "    "
   ]
  },
  {
   "cell_type": "code",
   "execution_count": 38,
   "metadata": {},
   "outputs": [
    {
     "data": {
      "text/plain": [
       "pandas.core.arrays.categorical.Categorical"
      ]
     },
     "execution_count": 38,
     "metadata": {},
     "output_type": "execute_result"
    }
   ],
   "source": [
    "type(ctgs)\n"
   ]
  },
  {
   "cell_type": "code",
   "execution_count": 39,
   "metadata": {},
   "outputs": [
    {
     "data": {
      "text/plain": [
       "Index(['미성년자', '청년', '중년', '장년', '노년'], dtype='object')"
      ]
     },
     "execution_count": 39,
     "metadata": {},
     "output_type": "execute_result"
    }
   ],
   "source": [
    "#Categories 속성 : 라벨 문자열의 카테고리 값 \n",
    "ctgs.categories"
   ]
  },
  {
   "cell_type": "code",
   "execution_count": 42,
   "metadata": {},
   "outputs": [
    {
     "data": {
      "text/plain": [
       "array([-1,  0,  0,  1,  1,  3,  2,  4,  1,  3,  2, -1], dtype=int8)"
      ]
     },
     "execution_count": 42,
     "metadata": {},
     "output_type": "execute_result"
    }
   ],
   "source": [
    "# ctgs.codes : 정수로 인코딩된 카테고리값\n",
    "ctgs.codes\n",
    "# ages=[0,2,10,21,23,37,31,61,20,41,32,100] \n",
    "# bins = [1,15,25,35,60,99]\n",
    "\n",
    "# array([-1,  0,  0,  1,  1,  3,  2,  4,  1,  3,  2, -1]"
   ]
  },
  {
   "cell_type": "code",
   "execution_count": 80,
   "metadata": {},
   "outputs": [
    {
     "ename": "NameError",
     "evalue": "name 'no' is not defined",
     "output_type": "error",
     "traceback": [
      "\u001b[1;31m---------------------------------------------------------------------------\u001b[0m",
      "\u001b[1;31mNameError\u001b[0m                                 Traceback (most recent call last)",
      "\u001b[1;32m<ipython-input-80-b345e8fac490>\u001b[0m in \u001b[0;36m<module>\u001b[1;34m\u001b[0m\n\u001b[0;32m     10\u001b[0m \u001b[0mbins\u001b[0m \u001b[1;33m=\u001b[0m \u001b[1;33m[\u001b[0m\u001b[1;36m1\u001b[0m\u001b[1;33m,\u001b[0m\u001b[1;36m15\u001b[0m\u001b[1;33m,\u001b[0m\u001b[1;36m25\u001b[0m\u001b[1;33m,\u001b[0m\u001b[1;36m35\u001b[0m\u001b[1;33m,\u001b[0m\u001b[1;36m60\u001b[0m\u001b[1;33m,\u001b[0m\u001b[1;36m99\u001b[0m\u001b[1;33m]\u001b[0m\u001b[1;33m\u001b[0m\u001b[1;33m\u001b[0m\u001b[0m\n\u001b[0;32m     11\u001b[0m \u001b[0mlabels\u001b[0m\u001b[1;33m=\u001b[0m \u001b[1;33m[\u001b[0m\u001b[1;34m'미성년자'\u001b[0m\u001b[1;33m,\u001b[0m\u001b[1;34m'청년'\u001b[0m\u001b[1;33m,\u001b[0m\u001b[1;34m'중년'\u001b[0m\u001b[1;33m,\u001b[0m\u001b[1;34m'장년'\u001b[0m\u001b[1;33m,\u001b[0m\u001b[1;34m'노년'\u001b[0m\u001b[1;33m]\u001b[0m\u001b[1;33m\u001b[0m\u001b[1;33m\u001b[0m\u001b[0m\n\u001b[1;32m---> 12\u001b[1;33m \u001b[0mno_ctgs\u001b[0m\u001b[1;33m=\u001b[0m \u001b[0mpd\u001b[0m\u001b[1;33m.\u001b[0m\u001b[0mcut\u001b[0m\u001b[1;33m(\u001b[0m\u001b[0mno\u001b[0m\u001b[1;33m,\u001b[0m\u001b[0mage\u001b[0m\u001b[1;33m,\u001b[0m\u001b[0mbins\u001b[0m\u001b[1;33m,\u001b[0m\u001b[0mlabels\u001b[0m\u001b[1;33m=\u001b[0m\u001b[0mlables\u001b[0m\u001b[1;33m)\u001b[0m\u001b[1;33m\u001b[0m\u001b[1;33m\u001b[0m\u001b[0m\n\u001b[0m\u001b[0;32m     13\u001b[0m \u001b[0mno_ctgs\u001b[0m\u001b[1;33m\u001b[0m\u001b[1;33m\u001b[0m\u001b[0m\n",
      "\u001b[1;31mNameError\u001b[0m: name 'no' is not defined"
     ]
    }
   ],
   "source": [
    "#결과를 데이터프레임으로 생성 출력\n",
    "# ages 열만 있는 데이터플에ㅣㅁ\n",
    "df4 =pd.DataFrame(ages, columns=['ages'])\n",
    "#df4\n",
    "\n",
    "#cut()함수를 적용한 결과를 df4의 age_ctg 열로 추가\n",
    "bins = [1,15,25,35,60,99] \n",
    "labels= ['미성년자','청년','중년','장년','노년']\n",
    "#열추가 df4 ['추가할 열이름' ] = 함수\n",
    "bins = [1,15,25,35,60,99]\n",
    "labels= ['미성년자','청년','중년','장년','노년']\n",
    "no == titinic\n",
    "no_ctgs= pd.cut(no,age,bins,labels=lables)\n",
    "no_ctgs"
   ]
  },
  {
   "cell_type": "markdown",
   "metadata": {},
   "source": [
    "qcut() : 구간 경계선을 지정하지 않고 데이터 개수가 같도록 지정한 수의구간\n",
    "    예 : 1000개의 데이터를 4개구간으로 나눔 각 구간은 250개씩 데이터 포함"
   ]
  },
  {
   "cell_type": "code",
   "execution_count": 55,
   "metadata": {},
   "outputs": [
    {
     "data": {
      "text/plain": [
       "[Q3, Q3, Q1, Q2, Q4, ..., Q3, Q3, Q2, Q4, Q1]\n",
       "Length: 1000\n",
       "Categories (4, object): [Q1 < Q2 < Q3 < Q4]"
      ]
     },
     "execution_count": 55,
     "metadata": {},
     "output_type": "execute_result"
    }
   ],
   "source": [
    "import numpy as np\n",
    "data= np.random.randn(1000)\n",
    "ctgs2= pd.qcut(data,4,labels=['Q1','Q2','Q3','Q4'])\n",
    "ctgs2"
   ]
  },
  {
   "cell_type": "code",
   "execution_count": 54,
   "metadata": {},
   "outputs": [
    {
     "ename": "NameError",
     "evalue": "name 'ctgs2' is not defined",
     "output_type": "error",
     "traceback": [
      "\u001b[1;31m---------------------------------------------------------------------------\u001b[0m",
      "\u001b[1;31mNameError\u001b[0m                                 Traceback (most recent call last)",
      "\u001b[1;32m<ipython-input-54-bf9f9823a65b>\u001b[0m in \u001b[0;36m<module>\u001b[1;34m\u001b[0m\n\u001b[1;32m----> 1\u001b[1;33m \u001b[0mpd\u001b[0m\u001b[1;33m.\u001b[0m\u001b[0mvalue_counts\u001b[0m\u001b[1;33m(\u001b[0m\u001b[0mctgs2\u001b[0m\u001b[1;33m)\u001b[0m\u001b[1;33m\u001b[0m\u001b[1;33m\u001b[0m\u001b[0m\n\u001b[0m",
      "\u001b[1;31mNameError\u001b[0m: name 'ctgs2' is not defined"
     ]
    }
   ],
   "source": [
    "pd.value_counts(ctgs2)"
   ]
  },
  {
   "cell_type": "code",
   "execution_count": null,
   "metadata": {},
   "outputs": [],
   "source": [
    "#연습\n",
    "import seaborn\n",
    "seaborn.set()\n",
    "tt=pd.read_csv('https://raw.githubusercontent.com/TeamLab/machine_learning_from_scratch_with_python/master/code/ch12/titanic/train.csv')\n",
    "tt\n",
    "print(tt.shape)\n",
    "del tt['PassengerId']\n",
    "del tt['Name']\n",
    "del tt['Ticket']\n",
    "del tt['Cabin']\n",
    "print(tt.head())\n",
    "tt['Age'].value_counts()\n",
    "tt['Survived'].value_counts()\n",
    "tt.apply(pd.value_counts).fillna(0).astype(int)"
   ]
  },
  {
   "cell_type": "code",
   "execution_count": 94,
   "metadata": {},
   "outputs": [
    {
     "ename": "SyntaxError",
     "evalue": "invalid syntax (<ipython-input-94-ae8a4c3da03b>, line 24)",
     "output_type": "error",
     "traceback": [
      "\u001b[1;36m  File \u001b[1;32m\"<ipython-input-94-ae8a4c3da03b>\"\u001b[1;36m, line \u001b[1;32m24\u001b[0m\n\u001b[1;33m    no_ctgs=\u001b[0m\n\u001b[1;37m            ^\u001b[0m\n\u001b[1;31mSyntaxError\u001b[0m\u001b[1;31m:\u001b[0m invalid syntax\n"
     ]
    }
   ],
   "source": [
    "## import seaborn as sns\n",
    "\n",
    "#연습문제\n",
    "# 타이타닉 승객 삼아자 생존자 그룹으로나누어각그룹에 대해\n",
    "# '미성년자','청년','장년','노년'으로 구분해서승객비율구하기\n",
    "# 각그룹별로 비율의 전체합은 1이됨\n",
    "# 사망자 비율 0.xxx\n",
    "# 생존자 비율 0.xxxx\n",
    "import seaborn as sns\n",
    "titanic =sns.load_dataset('titanic')\n",
    "titanic \n",
    "seaborn.set()\n",
    "#alive 열에서 값이 yes 인 것 만 추출\n",
    "#alive 열에서 값이 no 인 것 만 추출\n",
    "#tk사망자와 생존자 그룹 생성\n",
    "\n",
    "no=titanic[titanic['alive'] =='no']\n",
    "\n",
    "yes= titanic[titanic['alive'] =='yes']\n",
    "# 1 사망자 그룹 카테고리 설정\n",
    "\n",
    "#cut 함수 사용해서 \n",
    "no_ctgs=\n",
    "\n",
    "# 2 각 기준 값의 빈도수 출력\n",
    "# 3 no_ctgs= 전체수 출력\n",
    " # 4 사망자 비율 : 각 기준 값의 빈도수/ 전체수\n",
    "#각 기준값에 적용\n",
    "bins = [1,15,25,35,60,99]\n",
    "labels= ['미성년자','청년','중년','장년','노년']\n",
    "##사망자비율 ##\n",
    "# 청년 = 0.338363\n",
    "# 장년 = 0.2777251\n",
    "# 중년 = 0.267779\n",
    "# 미성년자 = 0.075829\n",
    "# 노년 = 0.040284\n",
    "##생존자비율##\n",
    "\n",
    "# 중년 = 0.298561\n",
    "# 장년 = 0.2805761\n",
    "# 청년 = 0.269784\n",
    "# 미성년자 = 0.133094\n",
    "# 노년 = 0.0284\n",
    "# 생존자 동일하게 적용 #인원수가 맞는지 확인   \n",
    "    \n",
    "bins = [1,15,25,35,60,99]  #  1인 이하\n",
    "labels= ['미성년자','청년','중년','장년','노년']\n",
    "#1 컷함수 사용\n",
    "ctg.categories0\n",
    "no = titanic [titanic['alive']=='no']\n",
    "yes= titanic [titanic['alive']=='yes']\n",
    "#2 cut 함수사t용\n",
    "yes.ctgs= pd.cut(yes.age,bins,labels=lables)\n",
    "yesctgs\n",
    "yes.ctgs.value_counts()"
   ]
  },
  {
   "cell_type": "code",
   "execution_count": 87,
   "metadata": {},
   "outputs": [
    {
     "ename": "TypeError",
     "evalue": "cut() missing 2 required positional arguments: 'x' and 'bins'",
     "output_type": "error",
     "traceback": [
      "\u001b[1;31m---------------------------------------------------------------------------\u001b[0m",
      "\u001b[1;31mTypeError\u001b[0m                                 Traceback (most recent call last)",
      "\u001b[1;32m<ipython-input-87-7962a993bae7>\u001b[0m in \u001b[0;36m<module>\u001b[1;34m\u001b[0m\n\u001b[1;32m----> 1\u001b[1;33m \u001b[0mno_ctgs\u001b[0m\u001b[1;33m=\u001b[0m \u001b[0mpd\u001b[0m\u001b[1;33m.\u001b[0m\u001b[0mcut\u001b[0m\u001b[1;33m(\u001b[0m\u001b[1;33m)\u001b[0m\u001b[1;33m\u001b[0m\u001b[1;33m\u001b[0m\u001b[0m\n\u001b[0m\u001b[0;32m      2\u001b[0m \u001b[0mno\u001b[0m\u001b[1;33m.\u001b[0m\u001b[0mctgs\u001b[0m\u001b[1;33m.\u001b[0m\u001b[0mcount\u001b[0m\u001b[1;33m(\u001b[0m\u001b[1;33m)\u001b[0m\u001b[1;33m\u001b[0m\u001b[1;33m\u001b[0m\u001b[0m\n",
      "\u001b[1;31mTypeError\u001b[0m: cut() missing 2 required positional arguments: 'x' and 'bins'"
     ]
    }
   ],
   "source": [
    "#3 전체 수 출력\n",
    "no_ctgs.count()\n",
    "#(4)사망자 비율 :각 기준값의 빈도수 /전체수\n",
    "    #각기준 값에 적용\n",
    "no_ctgs= pd.cut()\n",
    "no.ctgs.count()\n",
    "no_ctgs.values.counts().apply(lambda x:x/no_ctgs_count())\n",
    "#전체사망자수 "
   ]
  },
  {
   "cell_type": "code",
   "execution_count": 92,
   "metadata": {},
   "outputs": [
    {
     "ename": "NameError",
     "evalue": "name 'yes_ctgs' is not defined",
     "output_type": "error",
     "traceback": [
      "\u001b[1;31m---------------------------------------------------------------------------\u001b[0m",
      "\u001b[1;31mNameError\u001b[0m                                 Traceback (most recent call last)",
      "\u001b[1;32m<ipython-input-92-c504e59503de>\u001b[0m in \u001b[0;36m<module>\u001b[1;34m\u001b[0m\n\u001b[1;32m----> 1\u001b[1;33m \u001b[0myes_ctgs\u001b[0m\u001b[1;33m.\u001b[0m\u001b[0mvalue_counts\u001b[0m\u001b[1;33m(\u001b[0m\u001b[1;33m)\u001b[0m\u001b[1;33m.\u001b[0m\u001b[0mapply\u001b[0m\u001b[1;33m(\u001b[0m\u001b[1;32mlambda\u001b[0m \u001b[0mx\u001b[0m\u001b[1;33m:\u001b[0m\u001b[0mx\u001b[0m\u001b[1;33m/\u001b[0m\u001b[0myes_ctgs\u001b[0m\u001b[1;33m.\u001b[0m\u001b[0mcount\u001b[0m\u001b[1;33m(\u001b[0m\u001b[1;33m)\u001b[0m\u001b[1;33m)\u001b[0m\u001b[1;33m\u001b[0m\u001b[1;33m\u001b[0m\u001b[0m\n\u001b[0m\u001b[0;32m      2\u001b[0m \u001b[1;31m# 인원수가 맞는지 확인\u001b[0m\u001b[1;33m\u001b[0m\u001b[1;33m\u001b[0m\u001b[1;33m\u001b[0m\u001b[0m\n\u001b[0;32m      3\u001b[0m \u001b[1;31m#alive 총인원수\u001b[0m\u001b[1;33m\u001b[0m\u001b[1;33m\u001b[0m\u001b[1;33m\u001b[0m\u001b[0m\n\u001b[0;32m      4\u001b[0m \u001b[0mlen\u001b[0m\u001b[1;33m(\u001b[0m\u001b[0mtitanic\u001b[0m \u001b[1;33m[\u001b[0m\u001b[1;34m'alive'\u001b[0m\u001b[1;33m]\u001b[0m\u001b[1;33m)\u001b[0m\u001b[1;33m\u001b[0m\u001b[1;33m\u001b[0m\u001b[0m\n",
      "\u001b[1;31mNameError\u001b[0m: name 'yes_ctgs' is not defined"
     ]
    }
   ],
   "source": [
    "yes_ctgs.value_counts().apply(lambda x:x/yes_ctgs.count())\n",
    "# 인원수가 맞는지 확인\n",
    "#alive 총인원수\n",
    "len(titanic ['alive'])"
   ]
  },
  {
   "cell_type": "code",
   "execution_count": 93,
   "metadata": {},
   "outputs": [],
   "source": [
    "#alive 행에 NAn이 있는지 확인\n",
    "# nan 이 들어있는 행추출\n",
    "titanic[titanic['age']].in"
   ]
  },
  {
   "cell_type": "code",
   "execution_count": null,
   "metadata": {},
   "outputs": [],
   "source": [
    "# alive 891명 \n",
    "# age 총 891 - 177   = 714명\n",
    "# 카테고리별로 생존자 사망자 수를 합산\n",
    "422+278 =700\n",
    "그러면 14명은? \n",
    "# 1살이하 \n",
    "titanic[titanic['age']<='1'] \n",
    "len(titanic[titanic['age']<='1'])\n",
    "\n",
    "\n",
    "\n",
    "\n"
   ]
  },
  {
   "cell_type": "code",
   "execution_count": null,
   "metadata": {},
   "outputs": [],
   "source": []
  },
  {
   "cell_type": "code",
   "execution_count": 96,
   "metadata": {},
   "outputs": [
    {
     "ename": "NameError",
     "evalue": "name 'df2' is not defined",
     "output_type": "error",
     "traceback": [
      "\u001b[1;31m---------------------------------------------------------------------------\u001b[0m",
      "\u001b[1;31mNameError\u001b[0m                                 Traceback (most recent call last)",
      "\u001b[1;32m<ipython-input-96-64b3dcec99e2>\u001b[0m in \u001b[0;36m<module>\u001b[1;34m\u001b[0m\n\u001b[1;32m----> 1\u001b[1;33m \u001b[0mdf2\u001b[0m\u001b[1;33m.\u001b[0m\u001b[0mreset_index\u001b[0m\u001b[1;33m(\u001b[0m\u001b[1;33m)\u001b[0m \u001b[1;31m#c1이 맨 처음 열로 이동하고\u001b[0m\u001b[1;33m\u001b[0m\u001b[1;33m\u001b[0m\u001b[0m\n\u001b[0m\u001b[0;32m      2\u001b[0m \u001b[1;31m#데이터 프레임\u001b[0m\u001b[1;33m\u001b[0m\u001b[1;33m\u001b[0m\u001b[1;33m\u001b[0m\u001b[0m\n",
      "\u001b[1;31mNameError\u001b[0m: name 'df2' is not defined"
     ]
    }
   ],
   "source": []
  },
  {
   "cell_type": "markdown",
   "metadata": {},
   "source": []
  },
  {
   "cell_type": "code",
   "execution_count": null,
   "metadata": {},
   "outputs": [],
   "source": []
  },
  {
   "cell_type": "code",
   "execution_count": null,
   "metadata": {},
   "outputs": [],
   "source": []
  },
  {
   "cell_type": "code",
   "execution_count": null,
   "metadata": {},
   "outputs": [],
   "source": []
  },
  {
   "cell_type": "code",
   "execution_count": null,
   "metadata": {},
   "outputs": [],
   "source": []
  },
  {
   "cell_type": "code",
   "execution_count": 97,
   "metadata": {},
   "outputs": [
    {
     "ename": "NameError",
     "evalue": "name 'df2' is not defined",
     "output_type": "error",
     "traceback": [
      "\u001b[1;31m---------------------------------------------------------------------------\u001b[0m",
      "\u001b[1;31mNameError\u001b[0m                                 Traceback (most recent call last)",
      "\u001b[1;32m<ipython-input-97-d27f48cb2022>\u001b[0m in \u001b[0;36m<module>\u001b[1;34m\u001b[0m\n\u001b[1;32m----> 1\u001b[1;33m \u001b[0mdf2\u001b[0m \u001b[1;33m=\u001b[0m \u001b[0mdf2\u001b[0m\u001b[1;33m.\u001b[0m\u001b[0mreset_index\u001b[0m\u001b[1;33m(\u001b[0m\u001b[0mdrop\u001b[0m\u001b[1;33m=\u001b[0m\u001b[1;32mTrue\u001b[0m\u001b[1;33m)\u001b[0m\u001b[1;33m\u001b[0m\u001b[1;33m\u001b[0m\u001b[0m\n\u001b[0m",
      "\u001b[1;31mNameError\u001b[0m: name 'df2' is not defined"
     ]
    }
   ],
   "source": []
  },
  {
   "cell_type": "code",
   "execution_count": null,
   "metadata": {},
   "outputs": [],
   "source": []
  }
 ],
 "metadata": {
  "kernelspec": {
   "display_name": "Python 3",
   "language": "python",
   "name": "python3"
  },
  "language_info": {
   "codemirror_mode": {
    "name": "ipython",
    "version": 3
   },
   "file_extension": ".py",
   "mimetype": "text/x-python",
   "name": "python",
   "nbconvert_exporter": "python",
   "pygments_lexer": "ipython3",
   "version": "3.8.3"
  }
 },
 "nbformat": 4,
 "nbformat_minor": 4
}
