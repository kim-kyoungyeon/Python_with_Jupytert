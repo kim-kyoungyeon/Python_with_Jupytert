{
 "cells": [
  {
   "cell_type": "code",
   "execution_count": null,
   "metadata": {},
   "outputs": [],
   "source": [
    "sms.pairplot(crime_anal_norm,\n",
    "            x_vars=['인구수','cctv'],\n",
    "            yvars=['살인검거율','폭력검거율'],\n",
    "            kind='reg',\n",
    "            height=3)\n",
    "plt.show()\n",
    "#살인 및 폭력검거율과\n",
    "#인구수와 cctvr개수, 살인검거율과 폭력 검거율과 상관관관계가 관찰됨\n",
    "# 거의 상관관계 없음\n"
   ]
  },
  {
   "cell_type": "code",
   "execution_count": null,
   "metadata": {},
   "outputs": [],
   "source": [
    "#인구수 cctv 개수와 절도 검거율,강도검거율 간의 상관관계 그래프\n",
    "sms.pairplot(crime_anal_norm,\n",
    "            x_vars=['인구수','cctv'],\n",
    "            yvars=['절도검거율','강도검거율'],\n",
    "            kind='reg',\n",
    "            height=3)\n",
    "plt.show()\n",
    "#절도 검거율, 강도검거율 cctv개수의 관계가 음의 상관관계로 보임\n",
    "#인구수와 절도 검거율 강도검거율은 거의 상관관계 없음\n"
   ]
  },
  {
   "cell_type": "code",
   "execution_count": 1,
   "metadata": {},
   "outputs": [],
   "source": [
    "### (2) seaborn 패키지의 heatmap 함수사용"
   ]
  },
  {
   "cell_type": "code",
   "execution_count": null,
   "metadata": {},
   "outputs": [],
   "source": [
    "구별로 범죄 유형별 검거 비율 출력 heatmap 으로 표시\n",
    "구별로 범죄 발생 비율을 haetmap으로 표시"
   ]
  },
  {
   "cell_type": "code",
   "execution_count": null,
   "metadata": {},
   "outputs": [],
   "source": [
    "# 검거율의 합계인 '검거'항목의 최고값을 100으로 한정해서 구별 검거 수치환산\n",
    "#검거 최대값 구하기\n",
    "tmp_max= crime_annal_norm['검거'].max()\n",
    "# tmp_max #\n",
    "#구별로 검거 수치 환산\n",
    "crime_annal_norm['검거']= crime_annal_norm['검거']/tmp_max * 100\n",
    "# 환산된 '검거'로 내림차순 정렬\n",
    "crime_annal_norm_sort = crime_annal_norm.sort_value(by='검거',ascending=False)\n",
    "crime_annal_norm_sort"
   ]
  },
  {
   "cell_type": "code",
   "execution_count": null,
   "metadata": {},
   "outputs": [],
   "source": [
    "#구별로 범죄 유형별 검거 비율 heatmap으로 표시\n",
    "#heatmap 표시될 데이터셋 crime_anal_norm_sort\n",
    "#heatmap 으로 표시할 열 선택\n",
    "target_col= ['강간검거율','강도검거율','살인검거율','절도검거율','폭력검거율']\n",
    "plt.fikgure(figsize=(10,10))\n",
    "sns.heatmap(crime_anal_norm_sort[target_col],\n",
    "           annot=True,\n",
    "           fmf= 'f',\n",
    "           linewidth=5,\n",
    "           cmap='RdPu')\n",
    "plt.tilte('범죄검거비율(정규화된검거의 합으로 정렬)')\n",
    "plt.show()\n",
    "\n",
    "# 절도검거율이 다른 검거율에 비해 낮음 \n",
    "# 아래로 내려갈수록 검거율이 낮다 > 서초구가 검거율이 낮다\n",
    "\n",
    "# 그래프의 하단으로 갈수록 검거율이 낮은데 그속에 강남3구중 하나인 서초구가 보임\n",
    "# 전반적으로 검거율이 우수한 구는 도봉구 광진구 성동구가 보임\n"
   ]
  },
  {
   "cell_type": "code",
   "execution_count": null,
   "metadata": {},
   "outputs": [],
   "source": [
    "#구별로 범죄 발생비율을 heatmpa으로 관찰 "
   ]
  },
  {
   "cell_type": "code",
   "execution_count": null,
   "metadata": {},
   "outputs": [],
   "source": []
  },
  {
   "cell_type": "code",
   "execution_count": null,
   "metadata": {},
   "outputs": [],
   "source": []
  },
  {
   "cell_type": "code",
   "execution_count": null,
   "metadata": {},
   "outputs": [],
   "source": []
  },
  {
   "cell_type": "code",
   "execution_count": null,
   "metadata": {},
   "outputs": [],
   "source": []
  },
  {
   "cell_type": "code",
   "execution_count": null,
   "metadata": {},
   "outputs": [],
   "source": []
  }
 ],
 "metadata": {
  "kernelspec": {
   "display_name": "Python 3",
   "language": "python",
   "name": "python3"
  },
  "language_info": {
   "codemirror_mode": {
    "name": "ipython",
    "version": 3
   },
   "file_extension": ".py",
   "mimetype": "text/x-python",
   "name": "python",
   "nbconvert_exporter": "python",
   "pygments_lexer": "ipython3",
   "version": "3.8.3"
  }
 },
 "nbformat": 4,
 "nbformat_minor": 4
}
