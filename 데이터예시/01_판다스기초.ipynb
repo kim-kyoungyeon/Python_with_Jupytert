{
 "cells": [
  {
   "cell_type": "markdown",
   "metadata": {},
   "source": [
    "파이썬의 주요 데이터 분석 라이브러리\n",
    "- NumPy (넘파이) : 배열, 행렬 관련 편리한 기능 제공\n",
    "- Pandas (판다스) : Series, DataFrame 등의 자료구조를 활용한 데이터 분석 기능 제공\n",
    "- Matplotlib (맷플롯립) : 데이터 분석 결과를 시각화하는데 유용한 기능 제공"
   ]
  },
  {
   "cell_type": "markdown",
   "metadata": {},
   "source": [
    "판다스 기초\n",
    "\n",
    "pandas\n",
    "- Series, DataFrame 등의 자료구조를 활용한\n",
    "- 데이터 분석 기능을 제공해주는 라이브러리\n",
    "\n",
    "pandas 라이브러리 구성\n",
    "- 여러 종류의 클래스와 다양한 내장함수로 구성\n",
    "- 시리즈와 데이터프레임이라는 데이터 구조 클래스 객체 포함\n",
    "- 자주 사용되는 내장 함수 : Series(), DataFrame(), read_excel(), read_csv()\n",
    "\n",
    "Series와 DataFrame : 구조화된 데이터 형식\n",
    "- Series : 1차원 배열\n",
    "- DataFrame : 2차원 테이블 형태\n",
    "\n",
    "판다스의 1차적인 목적\n",
    "- 서로 다른 여러 가지 유형의 데이터를 공동의 포맷으로 정리하는 것\n",
    "- 특히, 행과 열로 이루어진 2차원 구조의 데이터프레임 형식으로 사용\n",
    "- 데이터 분석 실무에서 자주 사용됨\n"
   ]
  },
  {
   "cell_type": "markdown",
   "metadata": {},
   "source": [
    "시리즈부터 시작\n",
    "\n",
    "시리즈\n",
    "- 데이터가 순차적으로 나열된 1차원 배열 형태\n",
    "- 인덱스(index)와 데이터 값(value)이 일대일로 대응됨\n",
    "- 딕셔너리와 비슷한 구조 : [key : value]\n",
    "- 시리즈의 인덱스 = 데이터의 값의 위치를 나타내는 이름표 (숫자, 문자)"
   ]
  },
  {
   "cell_type": "markdown",
   "metadata": {},
   "source": [
    "시리즈 만들기 : 판다스의 내장 함수인 Series() 함수 사용\n",
    " 1. 리스트로 시리즈 만들기\n",
    " 2. 딕셔너리로 시리즈 만들기"
   ]
  },
  {
   "cell_type": "code",
   "execution_count": 1,
   "metadata": {},
   "outputs": [],
   "source": [
    "# pandas 불러오기 \n",
    "import pandas as pd"
   ]
  },
  {
   "cell_type": "code",
   "execution_count": 2,
   "metadata": {},
   "outputs": [
    {
     "data": {
      "text/plain": [
       "0    1\n",
       "1    2\n",
       "2    3\n",
       "dtype: int64"
      ]
     },
     "execution_count": 2,
     "metadata": {},
     "output_type": "execute_result"
    }
   ],
   "source": [
    "# 시리즈 만들기 : Series() 함수 사용\n",
    "# 1. 리스트로 시리즈 만들기\n",
    "# Sefies(1차원배열:리스트)\n",
    "s = pd.Series([1,2,3])\n",
    "s\n",
    "# 인덱스 : 0부터 시작하는 정수값으로 자동 지정"
   ]
  },
  {
   "cell_type": "code",
   "execution_count": 3,
   "metadata": {},
   "outputs": [
    {
     "data": {
      "text/plain": [
       "홍길동     95\n",
       "이몽룡    100\n",
       "성춘향     88\n",
       "dtype: int64"
      ]
     },
     "execution_count": 3,
     "metadata": {},
     "output_type": "execute_result"
    }
   ],
   "source": [
    "# 2. 딕셔너리로 시리즈 만들기\n",
    "scores = {'홍길동':95, '이몽룡':100, '성춘향':88}\n",
    "s = pd.Series(scores)\n",
    "s"
   ]
  },
  {
   "cell_type": "code",
   "execution_count": 4,
   "metadata": {},
   "outputs": [
    {
     "data": {
      "text/plain": [
       "1    10\n",
       "2    20\n",
       "3    30\n",
       "dtype: int64"
      ]
     },
     "execution_count": 4,
     "metadata": {},
     "output_type": "execute_result"
    }
   ],
   "source": [
    "# 숫자 인덱스 지정하면서 시리즈 생성\n",
    "s = pd.Series([10,20,30],index=[1,2,3])\n",
    "s"
   ]
  },
  {
   "cell_type": "code",
   "execution_count": 5,
   "metadata": {},
   "outputs": [
    {
     "data": {
      "text/plain": [
       "홍길동     95\n",
       "이몽룡    100\n",
       "성춘향     88\n",
       "dtype: int64"
      ]
     },
     "execution_count": 5,
     "metadata": {},
     "output_type": "execute_result"
    }
   ],
   "source": [
    "# 문자 인덱스 사용\n",
    "s = pd.Series([95,100,88],\n",
    "             index = ['홍길동','이몽룡','성춘향'])\n",
    "s\n"
   ]
  },
  {
   "cell_type": "code",
   "execution_count": 6,
   "metadata": {},
   "outputs": [
    {
     "data": {
      "text/plain": [
       "서울    123456\n",
       "부산    345678\n",
       "인천    384567\n",
       "대구    148324\n",
       "dtype: int64"
      ]
     },
     "execution_count": 6,
     "metadata": {},
     "output_type": "execute_result"
    }
   ],
   "source": [
    "# 123456, 345678, 384567, 148324\n",
    "# 인덱스 : 서울, 부산, 인천, 대구\n",
    "# 시리즈 s 생성\n",
    "s = pd.Series([123456, 345678, 384567, 148324],index=['서울','부산','인천','대구'])\n",
    "s"
   ]
  },
  {
   "cell_type": "code",
   "execution_count": 7,
   "metadata": {},
   "outputs": [
    {
     "data": {
      "text/plain": [
       "0    10\n",
       "1    11\n",
       "2    12\n",
       "3    13\n",
       "dtype: int64"
      ]
     },
     "execution_count": 7,
     "metadata": {},
     "output_type": "execute_result"
    }
   ],
   "source": [
    "# range() 함수를 사용해서 일정 범위의 값으로 시리즈 생성\n",
    "pd.Series(range(10,14))\n",
    "# 인덱스는 항상 0부터 시작"
   ]
  },
  {
   "cell_type": "code",
   "execution_count": 8,
   "metadata": {},
   "outputs": [
    {
     "data": {
      "text/plain": [
       "Index(['서울', '부산', '인천', '대구'], dtype='object')"
      ]
     },
     "execution_count": 8,
     "metadata": {},
     "output_type": "execute_result"
    }
   ],
   "source": [
    "# 시리즈의 인덱스는 index 속성으로 접근해서 확인 가능\n",
    "s.index"
   ]
  },
  {
   "cell_type": "code",
   "execution_count": 9,
   "metadata": {},
   "outputs": [
    {
     "data": {
      "text/plain": [
       "array([123456, 345678, 384567, 148324], dtype=int64)"
      ]
     },
     "execution_count": 9,
     "metadata": {},
     "output_type": "execute_result"
    }
   ],
   "source": [
    "# 시리즈의 값은 values 속성으로 접근해서 확인 가능\n",
    "s.values"
   ]
  },
  {
   "cell_type": "code",
   "execution_count": 10,
   "metadata": {},
   "outputs": [
    {
     "data": {
      "text/plain": [
       "도시\n",
       "서울    123456\n",
       "부산    345678\n",
       "인천    384567\n",
       "대구    148324\n",
       "dtype: int64"
      ]
     },
     "execution_count": 10,
     "metadata": {},
     "output_type": "execute_result"
    }
   ],
   "source": [
    "# 인덱스와 데이터에 이름 붙이기\n",
    "# index.name 속성으로 시리즈의 인덱스에 이름을 붙일 수 있음\n",
    "s.index.name = \"도시\"\n",
    "s"
   ]
  },
  {
   "cell_type": "code",
   "execution_count": 11,
   "metadata": {},
   "outputs": [
    {
     "data": {
      "text/plain": [
       "도시\n",
       "서울    123456\n",
       "부산    345678\n",
       "인천    384567\n",
       "대구    148324\n",
       "Name: 인구, dtype: int64"
      ]
     },
     "execution_count": 11,
     "metadata": {},
     "output_type": "execute_result"
    }
   ],
   "source": [
    "# 데이터에는 name 속성을 이용해서 시리즈에 이름 붙일 수 있음\n",
    "s.name = \"인구\"\n",
    "s"
   ]
  },
  {
   "cell_type": "markdown",
   "metadata": {},
   "source": [
    "시리즈 인덱싱 (indexing)\n",
    "- 데이터에서 인덱스를 사용해서 특정 데이터만 골라내는 것 (추출하는 것)\n",
    "\n",
    "인덱스 종류\n",
    "1. 정수형 위치 인덱스 (integer position)\n",
    "2. 인덱스 이름(index name) 또는 인덱스 라벨(index label)\n",
    "    - 인덱스 아룸 예 : 서울, 부산, 인천, 대구\n"
   ]
  },
  {
   "cell_type": "code",
   "execution_count": 12,
   "metadata": {},
   "outputs": [
    {
     "data": {
      "text/plain": [
       "123456"
      ]
     },
     "execution_count": 12,
     "metadata": {},
     "output_type": "execute_result"
    }
   ],
   "source": [
    "# 정수형 위치 인덱스를 사용한 인덱싱\n",
    "s[0] # 첫 번째 요소(원소)"
   ]
  },
  {
   "cell_type": "code",
   "execution_count": 13,
   "metadata": {},
   "outputs": [
    {
     "data": {
      "text/plain": [
       "345678"
      ]
     },
     "execution_count": 13,
     "metadata": {},
     "output_type": "execute_result"
    }
   ],
   "source": [
    "# 인덱스 이름 (또는 인덱스 라벨)을 이용한 인덱싱\n",
    "s['부산']"
   ]
  },
  {
   "cell_type": "code",
   "execution_count": 14,
   "metadata": {},
   "outputs": [
    {
     "data": {
      "text/plain": [
       "(148324, 148324)"
      ]
     },
     "execution_count": 14,
     "metadata": {},
     "output_type": "execute_result"
    }
   ],
   "source": [
    "# 정수형 위치 인덱스, 인덱스 이름(인덱스 라벨)\n",
    "s[3], s['대구']"
   ]
  },
  {
   "cell_type": "code",
   "execution_count": 15,
   "metadata": {},
   "outputs": [
    {
     "data": {
      "text/plain": [
       "도시\n",
       "서울    123456\n",
       "대구    148324\n",
       "부산    345678\n",
       "Name: 인구, dtype: int64"
      ]
     },
     "execution_count": 15,
     "metadata": {},
     "output_type": "execute_result"
    }
   ],
   "source": [
    "# 배열 인덱싱을 하면 데이터의 순서 변경하기\n",
    "# 특정 데이터만 선택 가능\n",
    "# 인덱스 사용법 : s[0] : 인덱스값이 1개인 경우\n",
    "# 인덱스 값이 여러 개인 경우 리스트로 표현 : [0,3,1]\n",
    "# - s[[0,3,1]]\n",
    "s[[0,3,1]]"
   ]
  },
  {
   "cell_type": "code",
   "execution_count": 16,
   "metadata": {},
   "outputs": [
    {
     "data": {
      "text/plain": [
       "도시\n",
       "서울    123456\n",
       "대구    148324\n",
       "부산    345678\n",
       "Name: 인구, dtype: int64"
      ]
     },
     "execution_count": 16,
     "metadata": {},
     "output_type": "execute_result"
    }
   ],
   "source": [
    "# 인덱스 라벨을 사용해서 서울, 대구, 부산만 출력\n",
    "s[['서울','대구','부산']]"
   ]
  },
  {
   "cell_type": "code",
   "execution_count": 17,
   "metadata": {},
   "outputs": [
    {
     "data": {
      "text/plain": [
       "도시\n",
       "부산    345678\n",
       "인천    384567\n",
       "Name: 인구, dtype: int64"
      ]
     },
     "execution_count": 17,
     "metadata": {},
     "output_type": "execute_result"
    }
   ],
   "source": [
    "# 시리즈 슬라이싱\n",
    "# 정수형 위치 인덱스를 사용한 슬라이싱\n",
    "# [start,end-1]\n",
    "# 2~3번째\n",
    "s[1:3]"
   ]
  },
  {
   "cell_type": "code",
   "execution_count": 18,
   "metadata": {},
   "outputs": [
    {
     "data": {
      "text/plain": [
       "도시\n",
       "부산    345678\n",
       "인천    384567\n",
       "대구    148324\n",
       "Name: 인구, dtype: int64"
      ]
     },
     "execution_count": 18,
     "metadata": {},
     "output_type": "execute_result"
    }
   ],
   "source": [
    "#인덱스 라벨(문자열)을 사용한 슬라이싱도 가능\n",
    "# 부산, 인천, 대구 추출\n",
    "# [start, end]\n",
    "s['부산':'대구']"
   ]
  },
  {
   "cell_type": "code",
   "execution_count": 19,
   "metadata": {},
   "outputs": [
    {
     "data": {
      "text/plain": [
       "a    0\n",
       "b    1\n",
       "c    2\n",
       "dtype: int64"
      ]
     },
     "execution_count": 19,
     "metadata": {},
     "output_type": "execute_result"
    }
   ],
   "source": [
    "# 라벨 값이 영문인 문자열인 경우\n",
    "# 속성인 것처럼 점(.)을 이용해서 접근이 가능\n",
    "# s.a\n",
    "s1 = pd.Series(range(3),index=['a','b','c'])\n",
    "s1"
   ]
  },
  {
   "cell_type": "code",
   "execution_count": 20,
   "metadata": {},
   "outputs": [
    {
     "data": {
      "text/plain": [
       "0"
      ]
     },
     "execution_count": 20,
     "metadata": {},
     "output_type": "execute_result"
    }
   ],
   "source": [
    "# 인덱스 : a, b, c (영문 문자열)\n",
    "# 속성인 것처럼 점(.)을 이용해서 접근\n",
    "s1.a"
   ]
  },
  {
   "cell_type": "markdown",
   "metadata": {},
   "source": [
    "시리즈의 데이터 갱신, 추가, 삭제\n",
    "인덱싱을 이용하면 딕셔너리처럼 데이터를 찾아서 갱신(update)하고\n",
    "추가, 삭제 가능"
   ]
  },
  {
   "cell_type": "code",
   "execution_count": 21,
   "metadata": {},
   "outputs": [
    {
     "data": {
      "text/plain": [
       "도시\n",
       "서울    123456\n",
       "부산    156789\n",
       "인천    384567\n",
       "대구    148324\n",
       "Name: 인구, dtype: int64"
      ]
     },
     "execution_count": 21,
     "metadata": {},
     "output_type": "execute_result"
    }
   ],
   "source": [
    "# '부산'의 데이터 변경\n",
    "s['부산'] = 156789\n",
    "s"
   ]
  },
  {
   "cell_type": "code",
   "execution_count": 22,
   "metadata": {},
   "outputs": [
    {
     "data": {
      "text/plain": [
       "도시\n",
       "부산    156789\n",
       "인천    384567\n",
       "대구    148324\n",
       "Name: 인구, dtype: int64"
      ]
     },
     "execution_count": 22,
     "metadata": {},
     "output_type": "execute_result"
    }
   ],
   "source": [
    "# 데이터 삭제 : del 명령어 사용\n",
    "del s['서울']\n",
    "s"
   ]
  },
  {
   "cell_type": "code",
   "execution_count": 23,
   "metadata": {},
   "outputs": [
    {
     "data": {
      "text/plain": [
       "도시\n",
       "부산    156789\n",
       "인천    384567\n",
       "대구    148324\n",
       "광주    234000\n",
       "Name: 인구, dtype: int64"
      ]
     },
     "execution_count": 23,
     "metadata": {},
     "output_type": "execute_result"
    }
   ],
   "source": [
    "# 데이터 추가\n",
    "s['광주'] = 234000\n",
    "s"
   ]
  },
  {
   "cell_type": "markdown",
   "metadata": {},
   "source": [
    "del s\n",
    "s # s가 삭제되어 오류 발생"
   ]
  },
  {
   "cell_type": "code",
   "execution_count": null,
   "metadata": {},
   "outputs": [],
   "source": [
    "# 정수형 위치 인덱스를 사용한 인덱싱\n",
    "s[0] # 첫 번째 요소(원소)\n",
    "# 인덱스 이름 (또는 인덱스 라벨)을 이용한 인덱싱\n",
    "s['부산']\n",
    "\n",
    "# 정수형 위치 인덱스, 인덱스 이름(인덱스 라벨)\n",
    "s[3], s['대구']\n",
    "\n",
    "# 배열 인덱싱을 하면 데이터의 순서 변경하기\n",
    "# 특정 데이터만 선택 가능\n",
    "# 인덱스 사용법 : s[0] : 인덱스값이 1개인 경우\n",
    "# 인덱스 값이 여러 개인 경우 리스트로 표현 : [0,3,1]\n",
    "# - s[[0,3,1]]\n",
    "s[[0,3,1]]\n",
    "\n",
    "# 인덱스 라벨을 사용해서 서울, 대구, 부산만 출력\n",
    "s[['서울','대구','부산']]\n",
    "\n",
    "# 시리즈 슬라이싱\n",
    "# 정수형 위치 인덱스를 사용한 슬라이싱\n",
    "# [start,end-1]\n",
    "# 2~3번째\n",
    "s[1:3]\n",
    "\n",
    "#인덱스 라벨(문자열)을 사용한 슬라이싱도 가능\n",
    "# 부산, 인천, 대구 추출\n",
    "# [start, end]\n",
    "s['부산':'대구']\n",
    "\n",
    "# 라벨 값이 영문인 문자열인 경우\n",
    "# 속성인 것처럼 점(.)을 이용해서 접근이 가능\n",
    "# s.a\n",
    "s1 = pd.Series(range(3),index=['a','b','c'])\n",
    "s1\n",
    "\n",
    "# 인덱스 : a, b, c (영문 문자열)\n",
    "# 속성인 것처럼 점(.)을 이용해서 접근\n",
    "s1.a\n",
    "\n",
    "시리즈의 데이터 갱신, 추가, 삭제\n",
    "인덱싱을 이용하면 딕셔너리처럼 데이터를 찾아서 갱신(update)하고\n",
    "추가, 삭제 가능\n",
    "\n",
    "# '부산'의 데이터 변경\n",
    "s['부산'] = 156789\n",
    "s\n",
    "\n",
    "# 데이터 삭제 : del 명령어 사용\n",
    "del s['서울']\n",
    "s\n",
    "\n",
    "# 데이터 추가\n",
    "s['광주'] = 234000\n",
    "s\n",
    "\n",
    "del s\n",
    "s # s가 삭제되어 오류 발생"
   ]
  },
  {
   "cell_type": "markdown",
   "metadata": {},
   "source": [
    "연습문제1\n",
    "임의로 2개의 시리즈 객체 생성\n",
    "모두 문자열 인덱스로 생성\n",
    "두 시리즈에 다르게 라벨 설정 (마음대로 만들기)"
   ]
  },
  {
   "cell_type": "code",
   "execution_count": 24,
   "metadata": {},
   "outputs": [
    {
     "data": {
      "text/plain": [
       "kor     12\n",
       "math    14\n",
       "eng     16\n",
       "dtype: int64"
      ]
     },
     "execution_count": 24,
     "metadata": {},
     "output_type": "execute_result"
    }
   ],
   "source": [
    "s1 = pd.Series([12,14,16],index=['kor','math','eng'])\n",
    "s1"
   ]
  },
  {
   "cell_type": "code",
   "execution_count": 25,
   "metadata": {},
   "outputs": [
    {
     "data": {
      "text/plain": [
       "lee    23\n",
       "lim    25\n",
       "kim    48\n",
       "dtype: int64"
      ]
     },
     "execution_count": 25,
     "metadata": {},
     "output_type": "execute_result"
    }
   ],
   "source": [
    "s2 = pd.Series([23,25,48],index=['lee','lim','kim'])\n",
    "s2"
   ]
  },
  {
   "cell_type": "markdown",
   "metadata": {},
   "source": [
    "데이터프레임\n",
    "- 2차원 행렬 데이터에 인덱스를 붙인 것\n",
    "- 행과 열로 만들어지는 2차원 배열 구조\n",
    "- R의 데이터프레임에서 유래\n",
    "- 데이터프레임의 각 열은 시리즈 객체로 이루어져 있음\n",
    "- DataFrame() 함수를 사용해서 데이터프레임 생성\n",
    "- 리스트로 데이터프레임 생성\n",
    "- 딕셔너리로 데이터프레임 생성"
   ]
  },
  {
   "cell_type": "code",
   "execution_count": 26,
   "metadata": {},
   "outputs": [
    {
     "data": {
      "text/html": [
       "<div>\n",
       "<style scoped>\n",
       "    .dataframe tbody tr th:only-of-type {\n",
       "        vertical-align: middle;\n",
       "    }\n",
       "\n",
       "    .dataframe tbody tr th {\n",
       "        vertical-align: top;\n",
       "    }\n",
       "\n",
       "    .dataframe thead th {\n",
       "        text-align: right;\n",
       "    }\n",
       "</style>\n",
       "<table border=\"1\" class=\"dataframe\">\n",
       "  <thead>\n",
       "    <tr style=\"text-align: right;\">\n",
       "      <th></th>\n",
       "      <th>0</th>\n",
       "      <th>1</th>\n",
       "      <th>2</th>\n",
       "    </tr>\n",
       "  </thead>\n",
       "  <tbody>\n",
       "    <tr>\n",
       "      <th>0</th>\n",
       "      <td>a</td>\n",
       "      <td>b</td>\n",
       "      <td>c</td>\n",
       "    </tr>\n",
       "    <tr>\n",
       "      <th>1</th>\n",
       "      <td>a</td>\n",
       "      <td>a</td>\n",
       "      <td>g</td>\n",
       "    </tr>\n",
       "    <tr>\n",
       "      <th>2</th>\n",
       "      <td>a</td>\n",
       "      <td>i</td>\n",
       "      <td>j</td>\n",
       "    </tr>\n",
       "  </tbody>\n",
       "</table>\n",
       "</div>"
      ],
      "text/plain": [
       "   0  1  2\n",
       "0  a  b  c\n",
       "1  a  a  g\n",
       "2  a  i  j"
      ]
     },
     "execution_count": 26,
     "metadata": {},
     "output_type": "execute_result"
    }
   ],
   "source": [
    "# 리스트로 데이터 프레임 생성\n",
    "df = pd.DataFrame([['a','b','c'],\n",
    "                  ['a','a','g'],\n",
    "                  ['a','i','j']])\n",
    "df\n",
    "# 열 이름과 인덱스 자동 생성\n",
    "# 열이름 : 열방향 인덱스 (가로)\n",
    "# 인덱스 : 행방향 인덱스 (세로)"
   ]
  },
  {
   "cell_type": "code",
   "execution_count": 27,
   "metadata": {},
   "outputs": [
    {
     "data": {
      "text/html": [
       "<div>\n",
       "<style scoped>\n",
       "    .dataframe tbody tr th:only-of-type {\n",
       "        vertical-align: middle;\n",
       "    }\n",
       "\n",
       "    .dataframe tbody tr th {\n",
       "        vertical-align: top;\n",
       "    }\n",
       "\n",
       "    .dataframe thead th {\n",
       "        text-align: right;\n",
       "    }\n",
       "</style>\n",
       "<table border=\"1\" class=\"dataframe\">\n",
       "  <thead>\n",
       "    <tr style=\"text-align: right;\">\n",
       "      <th></th>\n",
       "      <th>A</th>\n",
       "      <th>B</th>\n",
       "      <th>C</th>\n",
       "    </tr>\n",
       "  </thead>\n",
       "  <tbody>\n",
       "    <tr>\n",
       "      <th>0</th>\n",
       "      <td>A0</td>\n",
       "      <td>B0</td>\n",
       "      <td>C0</td>\n",
       "    </tr>\n",
       "    <tr>\n",
       "      <th>1</th>\n",
       "      <td>A1</td>\n",
       "      <td>B1</td>\n",
       "      <td>C1</td>\n",
       "    </tr>\n",
       "    <tr>\n",
       "      <th>2</th>\n",
       "      <td>A2</td>\n",
       "      <td>B2</td>\n",
       "      <td>C2</td>\n",
       "    </tr>\n",
       "    <tr>\n",
       "      <th>3</th>\n",
       "      <td>A3</td>\n",
       "      <td>B3</td>\n",
       "      <td>C3</td>\n",
       "    </tr>\n",
       "  </tbody>\n",
       "</table>\n",
       "</div>"
      ],
      "text/plain": [
       "    A   B   C\n",
       "0  A0  B0  C0\n",
       "1  A1  B1  C1\n",
       "2  A2  B2  C2\n",
       "3  A3  B3  C3"
      ]
     },
     "execution_count": 27,
     "metadata": {},
     "output_type": "execute_result"
    }
   ],
   "source": [
    "# 열이름과 인덱스 지정하고 데이터프레임 생성\n",
    "df1 = pd.DataFrame({'A':['A0','A1','A2','A3'],\n",
    "                    'B':['B0','B1','B2','B3'],\n",
    "                    'C':['C0','C1','C2','C3']},\n",
    "                   index=[0,1,2,3])\n",
    "df1"
   ]
  },
  {
   "cell_type": "markdown",
   "metadata": {},
   "source": [
    "-------5시 조퇴-------"
   ]
  },
  {
   "cell_type": "markdown",
   "metadata": {},
   "source": [
    "데이터프레임 생성(2)\n",
    "- 딕셔너리\n",
    "- 리스트"
   ]
  },
  {
   "cell_type": "code",
   "execution_count": 28,
   "metadata": {},
   "outputs": [],
   "source": [
    "# 딕셔너리로 데이터프레임 생성\n",
    "# key : '2015','2010','2005','2000','지역','2020-2015 증가율'\n",
    "# 데이터는 숫자 6자리, 증가율을 0.2345 소수점 이하 4자리\n",
    "# index : 서울, 부산, 인천, 대구"
   ]
  },
  {
   "cell_type": "code",
   "execution_count": 29,
   "metadata": {},
   "outputs": [
    {
     "data": {
      "text/html": [
       "<div>\n",
       "<style scoped>\n",
       "    .dataframe tbody tr th:only-of-type {\n",
       "        vertical-align: middle;\n",
       "    }\n",
       "\n",
       "    .dataframe tbody tr th {\n",
       "        vertical-align: top;\n",
       "    }\n",
       "\n",
       "    .dataframe thead th {\n",
       "        text-align: right;\n",
       "    }\n",
       "</style>\n",
       "<table border=\"1\" class=\"dataframe\">\n",
       "  <thead>\n",
       "    <tr style=\"text-align: right;\">\n",
       "      <th></th>\n",
       "      <th>2015</th>\n",
       "      <th>2010</th>\n",
       "      <th>2005</th>\n",
       "      <th>2000</th>\n",
       "      <th>지역</th>\n",
       "      <th>2010-2015 증가율</th>\n",
       "    </tr>\n",
       "  </thead>\n",
       "  <tbody>\n",
       "    <tr>\n",
       "      <th>서울</th>\n",
       "      <td>456789</td>\n",
       "      <td>232323</td>\n",
       "      <td>121212</td>\n",
       "      <td>545454</td>\n",
       "      <td>수도권</td>\n",
       "      <td>0.2222</td>\n",
       "    </tr>\n",
       "    <tr>\n",
       "      <th>부산</th>\n",
       "      <td>234567</td>\n",
       "      <td>454545</td>\n",
       "      <td>232323</td>\n",
       "      <td>565656</td>\n",
       "      <td>경상권</td>\n",
       "      <td>0.1322</td>\n",
       "    </tr>\n",
       "    <tr>\n",
       "      <th>인천</th>\n",
       "      <td>123456</td>\n",
       "      <td>656565</td>\n",
       "      <td>454545</td>\n",
       "      <td>575757</td>\n",
       "      <td>수도권</td>\n",
       "      <td>0.1244</td>\n",
       "    </tr>\n",
       "    <tr>\n",
       "      <th>대구</th>\n",
       "      <td>854755</td>\n",
       "      <td>787878</td>\n",
       "      <td>656565</td>\n",
       "      <td>585858</td>\n",
       "      <td>경상권</td>\n",
       "      <td>0.0333</td>\n",
       "    </tr>\n",
       "  </tbody>\n",
       "</table>\n",
       "</div>"
      ],
      "text/plain": [
       "      2015    2010    2005    2000   지역  2010-2015 증가율\n",
       "서울  456789  232323  121212  545454  수도권         0.2222\n",
       "부산  234567  454545  232323  565656  경상권         0.1322\n",
       "인천  123456  656565  454545  575757  수도권         0.1244\n",
       "대구  854755  787878  656565  585858  경상권         0.0333"
      ]
     },
     "execution_count": 29,
     "metadata": {},
     "output_type": "execute_result"
    }
   ],
   "source": [
    "data = {\n",
    "    '2015':[456789,234567,123456,854755],\n",
    "    '2010':[232323,454545,656565,787878],\n",
    "    '2005':[121212,232323,454545,656565],\n",
    "    '2000':[545454,565656,575757,585858],\n",
    "    '지역':['수도권','경상권','수도권','경상권'],\n",
    "    '2010-2015 증가율':[0.2222,0.1322,0.1244,0.0333]\n",
    "}\n",
    "# 열 방향 인덱스 (열이름)\n",
    "# columns = [2015','2010','2005','2000','지역','2020-2015 증가율'] # 따로 지정해줄 필요 없음\n",
    "# 행방향 인덱스\n",
    "index = ['서울','부산','인천','대구']\n",
    "\n",
    "#데이터프레임 생성\n",
    "#DataFrame(데이터, index, columns)\n",
    "df4 = pd.DataFrame(data,index=index)\n",
    "df4\n",
    "\n",
    "# 딕셔너리로 데이터프레임을 생성할 경우\n",
    "# key 값이 열 이름이 되므로\n",
    "# 별도의 columns 필요없음\n",
    "# columns를 사용해서 새로 열 이름을 붙일 수는 있지만\n",
    "# key에 해당되는 열이름이 아닌 경우 값이 NaN 출력(아래 예시)"
   ]
  },
  {
   "cell_type": "code",
   "execution_count": 30,
   "metadata": {},
   "outputs": [
    {
     "data": {
      "text/html": [
       "<div>\n",
       "<style scoped>\n",
       "    .dataframe tbody tr th:only-of-type {\n",
       "        vertical-align: middle;\n",
       "    }\n",
       "\n",
       "    .dataframe tbody tr th {\n",
       "        vertical-align: top;\n",
       "    }\n",
       "\n",
       "    .dataframe thead th {\n",
       "        text-align: right;\n",
       "    }\n",
       "</style>\n",
       "<table border=\"1\" class=\"dataframe\">\n",
       "  <thead>\n",
       "    <tr style=\"text-align: right;\">\n",
       "      <th></th>\n",
       "      <th>2020</th>\n",
       "      <th>2010</th>\n",
       "      <th>2005</th>\n",
       "      <th>2000</th>\n",
       "      <th>지역</th>\n",
       "      <th>2020-2015 증가율</th>\n",
       "    </tr>\n",
       "  </thead>\n",
       "  <tbody>\n",
       "    <tr>\n",
       "      <th>서울</th>\n",
       "      <td>NaN</td>\n",
       "      <td>232323</td>\n",
       "      <td>121212</td>\n",
       "      <td>545454</td>\n",
       "      <td>수도권</td>\n",
       "      <td>NaN</td>\n",
       "    </tr>\n",
       "    <tr>\n",
       "      <th>부산</th>\n",
       "      <td>NaN</td>\n",
       "      <td>454545</td>\n",
       "      <td>232323</td>\n",
       "      <td>565656</td>\n",
       "      <td>경상권</td>\n",
       "      <td>NaN</td>\n",
       "    </tr>\n",
       "    <tr>\n",
       "      <th>인천</th>\n",
       "      <td>NaN</td>\n",
       "      <td>656565</td>\n",
       "      <td>454545</td>\n",
       "      <td>575757</td>\n",
       "      <td>수도권</td>\n",
       "      <td>NaN</td>\n",
       "    </tr>\n",
       "    <tr>\n",
       "      <th>대구</th>\n",
       "      <td>NaN</td>\n",
       "      <td>787878</td>\n",
       "      <td>656565</td>\n",
       "      <td>585858</td>\n",
       "      <td>경상권</td>\n",
       "      <td>NaN</td>\n",
       "    </tr>\n",
       "  </tbody>\n",
       "</table>\n",
       "</div>"
      ],
      "text/plain": [
       "   2020    2010    2005    2000   지역 2020-2015 증가율\n",
       "서울  NaN  232323  121212  545454  수도권           NaN\n",
       "부산  NaN  454545  232323  565656  경상권           NaN\n",
       "인천  NaN  656565  454545  575757  수도권           NaN\n",
       "대구  NaN  787878  656565  585858  경상권           NaN"
      ]
     },
     "execution_count": 30,
     "metadata": {},
     "output_type": "execute_result"
    }
   ],
   "source": [
    "# 위와 동일한 문제, NaN 출력되는 경우 보여줌\n",
    "data = {\n",
    "    '2015':[456789,234567,123456,854755],\n",
    "    '2010':[232323,454545,656565,787878],\n",
    "    '2005':[121212,232323,454545,656565],\n",
    "    '2000':[545454,565656,575757,585858],\n",
    "    '지역':['수도권','경상권','수도권','경상권'],\n",
    "    '2010-2015 증가율':[0.2222,0.1322,0.1244,0.0333]\n",
    "}\n",
    "# 열 방향 인덱스 (열이름)\n",
    "columns = ['2020','2010','2005','2000','지역','2020-2015 증가율']\n",
    "# 행방향 인덱스\n",
    "index = ['서울','부산','인천','대구']\n",
    "\n",
    "#데이터프레임 생성\n",
    "#DataFrame(데이터, index, columns)\n",
    "df4 = pd.DataFrame(data,index=index, columns=columns)\n",
    "df4\n",
    "\n",
    "# 딕셔너리로 데이터프레임을 생성할 경우\n",
    "# key 값이 열 이름이 되므로\n",
    "# 별도의 columns 필요없음\n",
    "# columns를 사용해서 새로 열 이름을 붙일 수는 있지만\n",
    "# key에 해당되는 열이름이 아닌 경우 값이 NaN 출력"
   ]
  },
  {
   "cell_type": "markdown",
   "metadata": {},
   "source": [
    "리스트로 데이터프레임 생성 -key값이 없으므로 columns를 붙여야 함.\n",
    "열 이름 : 나이, 몸무게, 키, 성별, 주소\n",
    "index = 홍길동,이몽룡,성춘향,변학도,박지성 변수에 값 저장하고 변수 사용"
   ]
  },
  {
   "cell_type": "code",
   "execution_count": 31,
   "metadata": {},
   "outputs": [
    {
     "data": {
      "text/html": [
       "<div>\n",
       "<style scoped>\n",
       "    .dataframe tbody tr th:only-of-type {\n",
       "        vertical-align: middle;\n",
       "    }\n",
       "\n",
       "    .dataframe tbody tr th {\n",
       "        vertical-align: top;\n",
       "    }\n",
       "\n",
       "    .dataframe thead th {\n",
       "        text-align: right;\n",
       "    }\n",
       "</style>\n",
       "<table border=\"1\" class=\"dataframe\">\n",
       "  <thead>\n",
       "    <tr style=\"text-align: right;\">\n",
       "      <th></th>\n",
       "      <th>나이</th>\n",
       "      <th>몸무게</th>\n",
       "      <th>키</th>\n",
       "      <th>성별</th>\n",
       "      <th>주소</th>\n",
       "    </tr>\n",
       "  </thead>\n",
       "  <tbody>\n",
       "    <tr>\n",
       "      <th>홍길동</th>\n",
       "      <td>22</td>\n",
       "      <td>60.1</td>\n",
       "      <td>170.5</td>\n",
       "      <td>남</td>\n",
       "      <td>서울</td>\n",
       "    </tr>\n",
       "    <tr>\n",
       "      <th>이몽룡</th>\n",
       "      <td>23</td>\n",
       "      <td>88.3</td>\n",
       "      <td>180.5</td>\n",
       "      <td>남</td>\n",
       "      <td>대구</td>\n",
       "    </tr>\n",
       "    <tr>\n",
       "      <th>이몽룡</th>\n",
       "      <td>45</td>\n",
       "      <td>51.3</td>\n",
       "      <td>157.3</td>\n",
       "      <td>여</td>\n",
       "      <td>부산</td>\n",
       "    </tr>\n",
       "    <tr>\n",
       "      <th>변학도</th>\n",
       "      <td>33</td>\n",
       "      <td>87.1</td>\n",
       "      <td>180.5</td>\n",
       "      <td>남</td>\n",
       "      <td>제주</td>\n",
       "    </tr>\n",
       "    <tr>\n",
       "      <th>박지성</th>\n",
       "      <td>40</td>\n",
       "      <td>87.1</td>\n",
       "      <td>170.5</td>\n",
       "      <td>남</td>\n",
       "      <td>강릉</td>\n",
       "    </tr>\n",
       "  </tbody>\n",
       "</table>\n",
       "</div>"
      ],
      "text/plain": [
       "     나이   몸무게      키 성별  주소\n",
       "홍길동  22  60.1  170.5  남  서울\n",
       "이몽룡  23  88.3  180.5  남  대구\n",
       "이몽룡  45  51.3  157.3  여  부산\n",
       "변학도  33  87.1  180.5  남  제주\n",
       "박지성  40  87.1  170.5  남  강릉"
      ]
     },
     "execution_count": 31,
     "metadata": {},
     "output_type": "execute_result"
    }
   ],
   "source": [
    "# 연습문제\n",
    "# 리스트로 데이터프레임 생성\n",
    "\n",
    "data = [\n",
    "    [22, 60.1, 170.5,'남','서울'],\n",
    "    [23, 88.3, 180.5, '남','대구'],\n",
    "    [45, 51.3, 157.3, '여','부산'],\n",
    "    [33, 87.1, 180.5, '남','제주'],\n",
    "    [40, 87.1, 170.5, '남','강릉']\n",
    "]\n",
    "\n",
    "index = ['홍길동','이몽룡','이몽룡','변학도','박지성']\n",
    "columns = ['나이','몸무게','키','성별','주소']\n",
    "\n",
    "df5 = pd.DataFrame(data, index=index, columns=columns)\n",
    "df5"
   ]
  },
  {
   "cell_type": "code",
   "execution_count": 32,
   "metadata": {},
   "outputs": [
    {
     "data": {
      "text/html": [
       "<div>\n",
       "<style scoped>\n",
       "    .dataframe tbody tr th:only-of-type {\n",
       "        vertical-align: middle;\n",
       "    }\n",
       "\n",
       "    .dataframe tbody tr th {\n",
       "        vertical-align: top;\n",
       "    }\n",
       "\n",
       "    .dataframe thead th {\n",
       "        text-align: right;\n",
       "    }\n",
       "</style>\n",
       "<table border=\"1\" class=\"dataframe\">\n",
       "  <thead>\n",
       "    <tr style=\"text-align: right;\">\n",
       "      <th></th>\n",
       "      <th>0</th>\n",
       "      <th>1</th>\n",
       "      <th>2</th>\n",
       "      <th>3</th>\n",
       "      <th>4</th>\n",
       "    </tr>\n",
       "  </thead>\n",
       "  <tbody>\n",
       "    <tr>\n",
       "      <th>홍길동</th>\n",
       "      <td>22</td>\n",
       "      <td>60.1</td>\n",
       "      <td>170.5</td>\n",
       "      <td>남</td>\n",
       "      <td>서울</td>\n",
       "    </tr>\n",
       "    <tr>\n",
       "      <th>이몽룡</th>\n",
       "      <td>23</td>\n",
       "      <td>88.3</td>\n",
       "      <td>180.5</td>\n",
       "      <td>남</td>\n",
       "      <td>대구</td>\n",
       "    </tr>\n",
       "    <tr>\n",
       "      <th>이몽룡</th>\n",
       "      <td>45</td>\n",
       "      <td>51.3</td>\n",
       "      <td>157.3</td>\n",
       "      <td>여</td>\n",
       "      <td>부산</td>\n",
       "    </tr>\n",
       "    <tr>\n",
       "      <th>변학도</th>\n",
       "      <td>33</td>\n",
       "      <td>87.1</td>\n",
       "      <td>180.5</td>\n",
       "      <td>남</td>\n",
       "      <td>제주</td>\n",
       "    </tr>\n",
       "    <tr>\n",
       "      <th>박지성</th>\n",
       "      <td>40</td>\n",
       "      <td>87.1</td>\n",
       "      <td>170.5</td>\n",
       "      <td>남</td>\n",
       "      <td>강릉</td>\n",
       "    </tr>\n",
       "  </tbody>\n",
       "</table>\n",
       "</div>"
      ],
      "text/plain": [
       "      0     1      2  3   4\n",
       "홍길동  22  60.1  170.5  남  서울\n",
       "이몽룡  23  88.3  180.5  남  대구\n",
       "이몽룡  45  51.3  157.3  여  부산\n",
       "변학도  33  87.1  180.5  남  제주\n",
       "박지성  40  87.1  170.5  남  강릉"
      ]
     },
     "execution_count": 32,
     "metadata": {},
     "output_type": "execute_result"
    }
   ],
   "source": [
    "data = [\n",
    "    [22, 60.1, 170.5,'남','서울'],\n",
    "    [23, 88.3, 180.5, '남','대구'],\n",
    "    [45, 51.3, 157.3, '여','부산'],\n",
    "    [33, 87.1, 180.5, '남','제주'],\n",
    "    [40, 87.1, 170.5, '남','강릉']\n",
    "]\n",
    "\n",
    "index = ['홍길동','이몽룡','이몽룡','변학도','박지성']\n",
    "# columns = ['나이','몸무게','키','성별','주소']\n",
    "\n",
    "df6 = pd.DataFrame(data, index=index)\n",
    "df6\n",
    "\n",
    "# 리스트로 데이터프레임 생성 시 열 이름을 지정하지 않으면\n",
    "# 자동으로 숫자 인덱스 지정 (0부터)"
   ]
  },
  {
   "cell_type": "code",
   "execution_count": 33,
   "metadata": {},
   "outputs": [
    {
     "data": {
      "text/html": [
       "<div>\n",
       "<style scoped>\n",
       "    .dataframe tbody tr th:only-of-type {\n",
       "        vertical-align: middle;\n",
       "    }\n",
       "\n",
       "    .dataframe tbody tr th {\n",
       "        vertical-align: top;\n",
       "    }\n",
       "\n",
       "    .dataframe thead th {\n",
       "        text-align: right;\n",
       "    }\n",
       "</style>\n",
       "<table border=\"1\" class=\"dataframe\">\n",
       "  <thead>\n",
       "    <tr style=\"text-align: right;\">\n",
       "      <th></th>\n",
       "      <th>나이</th>\n",
       "      <th>몸무게</th>\n",
       "      <th>키</th>\n",
       "      <th>성별</th>\n",
       "      <th>주소</th>\n",
       "    </tr>\n",
       "  </thead>\n",
       "  <tbody>\n",
       "    <tr>\n",
       "      <th>홍길동</th>\n",
       "      <td>22</td>\n",
       "      <td>60.1</td>\n",
       "      <td>170.5</td>\n",
       "      <td>남</td>\n",
       "      <td>서울</td>\n",
       "    </tr>\n",
       "    <tr>\n",
       "      <th>성춘향</th>\n",
       "      <td>45</td>\n",
       "      <td>51.3</td>\n",
       "      <td>157.3</td>\n",
       "      <td>여</td>\n",
       "      <td>부산</td>\n",
       "    </tr>\n",
       "    <tr>\n",
       "      <th>이몽룡</th>\n",
       "      <td>23</td>\n",
       "      <td>88.3</td>\n",
       "      <td>180.5</td>\n",
       "      <td>남</td>\n",
       "      <td>대구</td>\n",
       "    </tr>\n",
       "    <tr>\n",
       "      <th>변학도</th>\n",
       "      <td>33</td>\n",
       "      <td>87.1</td>\n",
       "      <td>180.5</td>\n",
       "      <td>남</td>\n",
       "      <td>제주</td>\n",
       "    </tr>\n",
       "    <tr>\n",
       "      <th>박지성</th>\n",
       "      <td>40</td>\n",
       "      <td>87.1</td>\n",
       "      <td>170.5</td>\n",
       "      <td>남</td>\n",
       "      <td>강릉</td>\n",
       "    </tr>\n",
       "  </tbody>\n",
       "</table>\n",
       "</div>"
      ],
      "text/plain": [
       "     나이   몸무게      키 성별  주소\n",
       "홍길동  22  60.1  170.5  남  서울\n",
       "성춘향  45  51.3  157.3  여  부산\n",
       "이몽룡  23  88.3  180.5  남  대구\n",
       "변학도  33  87.1  180.5  남  제주\n",
       "박지성  40  87.1  170.5  남  강릉"
      ]
     },
     "execution_count": 33,
     "metadata": {},
     "output_type": "execute_result"
    }
   ],
   "source": [
    "# 연습문제\n",
    "# 딕셔너리로 df5와 동일하게 데이터프레임 생성\n",
    "data = {\n",
    "    '나이':[22,45,23,33,40],\n",
    "    '몸무게':[60.1,51.3,88.3,87.1,87.1],\n",
    "    '키':[170.5,157.3,180.5,180.5,170.5],\n",
    "    '성별':['남','여','남','남','남'],\n",
    "    '주소':['서울','부산','대구','제주','강릉']\n",
    "}\n",
    "\n",
    "index = ['홍길동','성춘향','이몽룡','변학도','박지성']\n",
    "df7 = pd.DataFrame(data, index=index)\n",
    "df7"
   ]
  },
  {
   "cell_type": "code",
   "execution_count": 34,
   "metadata": {},
   "outputs": [
    {
     "data": {
      "text/html": [
       "<div>\n",
       "<style scoped>\n",
       "    .dataframe tbody tr th:only-of-type {\n",
       "        vertical-align: middle;\n",
       "    }\n",
       "\n",
       "    .dataframe tbody tr th {\n",
       "        vertical-align: top;\n",
       "    }\n",
       "\n",
       "    .dataframe thead th {\n",
       "        text-align: right;\n",
       "    }\n",
       "</style>\n",
       "<table border=\"1\" class=\"dataframe\">\n",
       "  <thead>\n",
       "    <tr style=\"text-align: right;\">\n",
       "      <th></th>\n",
       "      <th>A</th>\n",
       "      <th>B</th>\n",
       "      <th>C</th>\n",
       "    </tr>\n",
       "  </thead>\n",
       "  <tbody>\n",
       "    <tr>\n",
       "      <th>0</th>\n",
       "      <td>1</td>\n",
       "      <td>3</td>\n",
       "      <td>5</td>\n",
       "    </tr>\n",
       "    <tr>\n",
       "      <th>1</th>\n",
       "      <td>2</td>\n",
       "      <td>4</td>\n",
       "      <td>6</td>\n",
       "    </tr>\n",
       "  </tbody>\n",
       "</table>\n",
       "</div>"
      ],
      "text/plain": [
       "   A  B  C\n",
       "0  1  3  5\n",
       "1  2  4  6"
      ]
     },
     "execution_count": 34,
     "metadata": {},
     "output_type": "execute_result"
    }
   ],
   "source": [
    "# 데이터 프레임 생성\n",
    "# 시리즈로 데이터 프레임 생성\n",
    "# 시리즈를 리스트로 변환해서 사용\n",
    "s1 = pd.Series([1,3,5])\n",
    "s2 = pd.Series([2,4,6])\n",
    "\n",
    "df = pd.DataFrame([list(s1),list(s2)], columns=['A','B','C'])\n",
    "df"
   ]
  },
  {
   "cell_type": "code",
   "execution_count": 35,
   "metadata": {},
   "outputs": [
    {
     "data": {
      "text/plain": [
       "pandas.core.series.Series"
      ]
     },
     "execution_count": 35,
     "metadata": {},
     "output_type": "execute_result"
    }
   ],
   "source": [
    "type(s1)"
   ]
  },
  {
   "cell_type": "code",
   "execution_count": 36,
   "metadata": {},
   "outputs": [
    {
     "data": {
      "text/plain": [
       "pandas.core.frame.DataFrame"
      ]
     },
     "execution_count": 36,
     "metadata": {},
     "output_type": "execute_result"
    }
   ],
   "source": [
    "type(df)"
   ]
  },
  {
   "cell_type": "code",
   "execution_count": 37,
   "metadata": {},
   "outputs": [
    {
     "data": {
      "text/html": [
       "<div>\n",
       "<style scoped>\n",
       "    .dataframe tbody tr th:only-of-type {\n",
       "        vertical-align: middle;\n",
       "    }\n",
       "\n",
       "    .dataframe tbody tr th {\n",
       "        vertical-align: top;\n",
       "    }\n",
       "\n",
       "    .dataframe thead th {\n",
       "        text-align: right;\n",
       "    }\n",
       "</style>\n",
       "<table border=\"1\" class=\"dataframe\">\n",
       "  <thead>\n",
       "    <tr style=\"text-align: right;\">\n",
       "      <th></th>\n",
       "      <th>나이</th>\n",
       "      <th>몸무게</th>\n",
       "      <th>키</th>\n",
       "      <th>성별</th>\n",
       "      <th>주소</th>\n",
       "    </tr>\n",
       "  </thead>\n",
       "  <tbody>\n",
       "    <tr>\n",
       "      <th>홍길동</th>\n",
       "      <td>22</td>\n",
       "      <td>60.1</td>\n",
       "      <td>170.5</td>\n",
       "      <td>남</td>\n",
       "      <td>서울</td>\n",
       "    </tr>\n",
       "    <tr>\n",
       "      <th>성춘향</th>\n",
       "      <td>45</td>\n",
       "      <td>51.3</td>\n",
       "      <td>157.3</td>\n",
       "      <td>여</td>\n",
       "      <td>부산</td>\n",
       "    </tr>\n",
       "    <tr>\n",
       "      <th>이몽룡</th>\n",
       "      <td>23</td>\n",
       "      <td>88.3</td>\n",
       "      <td>180.5</td>\n",
       "      <td>남</td>\n",
       "      <td>대구</td>\n",
       "    </tr>\n",
       "    <tr>\n",
       "      <th>변학도</th>\n",
       "      <td>33</td>\n",
       "      <td>87.1</td>\n",
       "      <td>180.5</td>\n",
       "      <td>남</td>\n",
       "      <td>제주</td>\n",
       "    </tr>\n",
       "    <tr>\n",
       "      <th>박지성</th>\n",
       "      <td>40</td>\n",
       "      <td>87.1</td>\n",
       "      <td>170.5</td>\n",
       "      <td>남</td>\n",
       "      <td>강릉</td>\n",
       "    </tr>\n",
       "  </tbody>\n",
       "</table>\n",
       "</div>"
      ],
      "text/plain": [
       "     나이   몸무게      키 성별  주소\n",
       "홍길동  22  60.1  170.5  남  서울\n",
       "성춘향  45  51.3  157.3  여  부산\n",
       "이몽룡  23  88.3  180.5  남  대구\n",
       "변학도  33  87.1  180.5  남  제주\n",
       "박지성  40  87.1  170.5  남  강릉"
      ]
     },
     "execution_count": 37,
     "metadata": {},
     "output_type": "execute_result"
    }
   ],
   "source": [
    "lst1 = [22, 60.1, 170.5,'남','서울']\n",
    "lst2 = [45, 51.3, 157.3, '여','부산']\n",
    "lst3 = [23, 88.3, 180.5, '남','대구']\n",
    "lst4 = [33, 87.1, 180.5, '남','제주']\n",
    "lst5 = [40, 87.1, 170.5, '남','강릉']\n",
    "\n",
    "index = ['홍길동','성춘향','이몽룡','변학도','박지성']\n",
    "columns = ['나이','몸무게','키','성별','주소']\n",
    "\n",
    "df = pd.DataFrame([lst1,lst2,lst3,lst4,lst5],\n",
    "                  index=index,\n",
    "                  columns=columns)\n",
    "df"
   ]
  },
  {
   "cell_type": "markdown",
   "metadata": {},
   "source": [
    "데이터 프레임에 데이터 추가\n",
    "(1) 데이터 프레임에 열 추가\n",
    "- 단일 값을 가지는 열 추가 : df[열] - 값\n",
    "- 리스트로 열 추가 : df[열] - 리스트\n",
    "- 시리즈로 열 추가 : df[열] - 시리즈"
   ]
  },
  {
   "cell_type": "code",
   "execution_count": 38,
   "metadata": {},
   "outputs": [
    {
     "data": {
      "text/html": [
       "<div>\n",
       "<style scoped>\n",
       "    .dataframe tbody tr th:only-of-type {\n",
       "        vertical-align: middle;\n",
       "    }\n",
       "\n",
       "    .dataframe tbody tr th {\n",
       "        vertical-align: top;\n",
       "    }\n",
       "\n",
       "    .dataframe thead th {\n",
       "        text-align: right;\n",
       "    }\n",
       "</style>\n",
       "<table border=\"1\" class=\"dataframe\">\n",
       "  <thead>\n",
       "    <tr style=\"text-align: right;\">\n",
       "      <th></th>\n",
       "      <th>나이</th>\n",
       "      <th>몸무게</th>\n",
       "      <th>키</th>\n",
       "      <th>성별</th>\n",
       "      <th>주소</th>\n",
       "      <th>국적</th>\n",
       "    </tr>\n",
       "  </thead>\n",
       "  <tbody>\n",
       "    <tr>\n",
       "      <th>홍길동</th>\n",
       "      <td>22</td>\n",
       "      <td>60.1</td>\n",
       "      <td>170.5</td>\n",
       "      <td>남</td>\n",
       "      <td>서울</td>\n",
       "      <td>대한민국</td>\n",
       "    </tr>\n",
       "    <tr>\n",
       "      <th>성춘향</th>\n",
       "      <td>45</td>\n",
       "      <td>51.3</td>\n",
       "      <td>157.3</td>\n",
       "      <td>여</td>\n",
       "      <td>부산</td>\n",
       "      <td>대한민국</td>\n",
       "    </tr>\n",
       "    <tr>\n",
       "      <th>이몽룡</th>\n",
       "      <td>23</td>\n",
       "      <td>88.3</td>\n",
       "      <td>180.5</td>\n",
       "      <td>남</td>\n",
       "      <td>대구</td>\n",
       "      <td>대한민국</td>\n",
       "    </tr>\n",
       "    <tr>\n",
       "      <th>변학도</th>\n",
       "      <td>33</td>\n",
       "      <td>87.1</td>\n",
       "      <td>180.5</td>\n",
       "      <td>남</td>\n",
       "      <td>제주</td>\n",
       "      <td>대한민국</td>\n",
       "    </tr>\n",
       "    <tr>\n",
       "      <th>박지성</th>\n",
       "      <td>40</td>\n",
       "      <td>87.1</td>\n",
       "      <td>170.5</td>\n",
       "      <td>남</td>\n",
       "      <td>강릉</td>\n",
       "      <td>대한민국</td>\n",
       "    </tr>\n",
       "  </tbody>\n",
       "</table>\n",
       "</div>"
      ],
      "text/plain": [
       "     나이   몸무게      키 성별  주소    국적\n",
       "홍길동  22  60.1  170.5  남  서울  대한민국\n",
       "성춘향  45  51.3  157.3  여  부산  대한민국\n",
       "이몽룡  23  88.3  180.5  남  대구  대한민국\n",
       "변학도  33  87.1  180.5  남  제주  대한민국\n",
       "박지성  40  87.1  170.5  남  강릉  대한민국"
      ]
     },
     "execution_count": 38,
     "metadata": {},
     "output_type": "execute_result"
    }
   ],
   "source": [
    "# 단일 값을 가지는 열 추가\n",
    "df['국적'] = '대한민국'\n",
    "df"
   ]
  },
  {
   "cell_type": "code",
   "execution_count": 39,
   "metadata": {},
   "outputs": [
    {
     "data": {
      "text/html": [
       "<div>\n",
       "<style scoped>\n",
       "    .dataframe tbody tr th:only-of-type {\n",
       "        vertical-align: middle;\n",
       "    }\n",
       "\n",
       "    .dataframe tbody tr th {\n",
       "        vertical-align: top;\n",
       "    }\n",
       "\n",
       "    .dataframe thead th {\n",
       "        text-align: right;\n",
       "    }\n",
       "</style>\n",
       "<table border=\"1\" class=\"dataframe\">\n",
       "  <thead>\n",
       "    <tr style=\"text-align: right;\">\n",
       "      <th></th>\n",
       "      <th>나이</th>\n",
       "      <th>몸무게</th>\n",
       "      <th>키</th>\n",
       "      <th>성별</th>\n",
       "      <th>주소</th>\n",
       "      <th>국적</th>\n",
       "      <th>TOEIC</th>\n",
       "    </tr>\n",
       "  </thead>\n",
       "  <tbody>\n",
       "    <tr>\n",
       "      <th>홍길동</th>\n",
       "      <td>22</td>\n",
       "      <td>60.1</td>\n",
       "      <td>170.5</td>\n",
       "      <td>남</td>\n",
       "      <td>서울</td>\n",
       "      <td>대한민국</td>\n",
       "      <td>450</td>\n",
       "    </tr>\n",
       "    <tr>\n",
       "      <th>성춘향</th>\n",
       "      <td>45</td>\n",
       "      <td>51.3</td>\n",
       "      <td>157.3</td>\n",
       "      <td>여</td>\n",
       "      <td>부산</td>\n",
       "      <td>대한민국</td>\n",
       "      <td>780</td>\n",
       "    </tr>\n",
       "    <tr>\n",
       "      <th>이몽룡</th>\n",
       "      <td>23</td>\n",
       "      <td>88.3</td>\n",
       "      <td>180.5</td>\n",
       "      <td>남</td>\n",
       "      <td>대구</td>\n",
       "      <td>대한민국</td>\n",
       "      <td>600</td>\n",
       "    </tr>\n",
       "    <tr>\n",
       "      <th>변학도</th>\n",
       "      <td>33</td>\n",
       "      <td>87.1</td>\n",
       "      <td>180.5</td>\n",
       "      <td>남</td>\n",
       "      <td>제주</td>\n",
       "      <td>대한민국</td>\n",
       "      <td>900</td>\n",
       "    </tr>\n",
       "    <tr>\n",
       "      <th>박지성</th>\n",
       "      <td>40</td>\n",
       "      <td>87.1</td>\n",
       "      <td>170.5</td>\n",
       "      <td>남</td>\n",
       "      <td>강릉</td>\n",
       "      <td>대한민국</td>\n",
       "      <td>780</td>\n",
       "    </tr>\n",
       "  </tbody>\n",
       "</table>\n",
       "</div>"
      ],
      "text/plain": [
       "     나이   몸무게      키 성별  주소    국적  TOEIC\n",
       "홍길동  22  60.1  170.5  남  서울  대한민국    450\n",
       "성춘향  45  51.3  157.3  여  부산  대한민국    780\n",
       "이몽룡  23  88.3  180.5  남  대구  대한민국    600\n",
       "변학도  33  87.1  180.5  남  제주  대한민국    900\n",
       "박지성  40  87.1  170.5  남  강릉  대한민국    780"
      ]
     },
     "execution_count": 39,
     "metadata": {},
     "output_type": "execute_result"
    }
   ],
   "source": [
    "# 리스트로 열 추가\n",
    "toeic = [450, 780, 600, 900, 780]\n",
    "df['TOEIC'] = toeic\n",
    "df"
   ]
  },
  {
   "cell_type": "code",
   "execution_count": 40,
   "metadata": {
    "scrolled": true
   },
   "outputs": [
    {
     "data": {
      "text/html": [
       "<div>\n",
       "<style scoped>\n",
       "    .dataframe tbody tr th:only-of-type {\n",
       "        vertical-align: middle;\n",
       "    }\n",
       "\n",
       "    .dataframe tbody tr th {\n",
       "        vertical-align: top;\n",
       "    }\n",
       "\n",
       "    .dataframe thead th {\n",
       "        text-align: right;\n",
       "    }\n",
       "</style>\n",
       "<table border=\"1\" class=\"dataframe\">\n",
       "  <thead>\n",
       "    <tr style=\"text-align: right;\">\n",
       "      <th></th>\n",
       "      <th>나이</th>\n",
       "      <th>몸무게</th>\n",
       "      <th>키</th>\n",
       "      <th>성별</th>\n",
       "      <th>주소</th>\n",
       "      <th>국적</th>\n",
       "      <th>TOEIC</th>\n",
       "      <th>직업</th>\n",
       "    </tr>\n",
       "  </thead>\n",
       "  <tbody>\n",
       "    <tr>\n",
       "      <th>홍길동</th>\n",
       "      <td>22</td>\n",
       "      <td>60.1</td>\n",
       "      <td>170.5</td>\n",
       "      <td>남</td>\n",
       "      <td>서울</td>\n",
       "      <td>대한민국</td>\n",
       "      <td>450</td>\n",
       "      <td>학생</td>\n",
       "    </tr>\n",
       "    <tr>\n",
       "      <th>성춘향</th>\n",
       "      <td>45</td>\n",
       "      <td>51.3</td>\n",
       "      <td>157.3</td>\n",
       "      <td>여</td>\n",
       "      <td>부산</td>\n",
       "      <td>대한민국</td>\n",
       "      <td>780</td>\n",
       "      <td>회사원</td>\n",
       "    </tr>\n",
       "    <tr>\n",
       "      <th>이몽룡</th>\n",
       "      <td>23</td>\n",
       "      <td>88.3</td>\n",
       "      <td>180.5</td>\n",
       "      <td>남</td>\n",
       "      <td>대구</td>\n",
       "      <td>대한민국</td>\n",
       "      <td>600</td>\n",
       "      <td>간호사</td>\n",
       "    </tr>\n",
       "    <tr>\n",
       "      <th>변학도</th>\n",
       "      <td>33</td>\n",
       "      <td>87.1</td>\n",
       "      <td>180.5</td>\n",
       "      <td>남</td>\n",
       "      <td>제주</td>\n",
       "      <td>대한민국</td>\n",
       "      <td>900</td>\n",
       "      <td>축구선수</td>\n",
       "    </tr>\n",
       "    <tr>\n",
       "      <th>박지성</th>\n",
       "      <td>40</td>\n",
       "      <td>87.1</td>\n",
       "      <td>170.5</td>\n",
       "      <td>남</td>\n",
       "      <td>강릉</td>\n",
       "      <td>대한민국</td>\n",
       "      <td>780</td>\n",
       "      <td>공무원</td>\n",
       "    </tr>\n",
       "  </tbody>\n",
       "</table>\n",
       "</div>"
      ],
      "text/plain": [
       "     나이   몸무게      키 성별  주소    국적  TOEIC    직업\n",
       "홍길동  22  60.1  170.5  남  서울  대한민국    450    학생\n",
       "성춘향  45  51.3  157.3  여  부산  대한민국    780   회사원\n",
       "이몽룡  23  88.3  180.5  남  대구  대한민국    600   간호사\n",
       "변학도  33  87.1  180.5  남  제주  대한민국    900  축구선수\n",
       "박지성  40  87.1  170.5  남  강릉  대한민국    780   공무원"
      ]
     },
     "execution_count": 40,
     "metadata": {},
     "output_type": "execute_result"
    }
   ],
   "source": [
    "# 시리즈로 열 추가 : index를 지정해야 함 (일치않으면 NaN이 저장됨)\n",
    "job = pd.Series(['학생','회사원','간호사','축구선수','공무원'],\n",
    "               index = ['홍길동','성춘향','이몽룡','변학도','박지성'])\n",
    "df['직업']=job\n",
    "df"
   ]
  },
  {
   "cell_type": "code",
   "execution_count": 41,
   "metadata": {},
   "outputs": [
    {
     "data": {
      "text/html": [
       "<div>\n",
       "<style scoped>\n",
       "    .dataframe tbody tr th:only-of-type {\n",
       "        vertical-align: middle;\n",
       "    }\n",
       "\n",
       "    .dataframe tbody tr th {\n",
       "        vertical-align: top;\n",
       "    }\n",
       "\n",
       "    .dataframe thead th {\n",
       "        text-align: right;\n",
       "    }\n",
       "</style>\n",
       "<table border=\"1\" class=\"dataframe\">\n",
       "  <thead>\n",
       "    <tr style=\"text-align: right;\">\n",
       "      <th></th>\n",
       "      <th>나이</th>\n",
       "      <th>몸무게</th>\n",
       "      <th>키</th>\n",
       "      <th>성별</th>\n",
       "      <th>주소</th>\n",
       "      <th>국적</th>\n",
       "      <th>TOEIC</th>\n",
       "      <th>직업</th>\n",
       "      <th>BMI</th>\n",
       "    </tr>\n",
       "  </thead>\n",
       "  <tbody>\n",
       "    <tr>\n",
       "      <th>홍길동</th>\n",
       "      <td>22</td>\n",
       "      <td>60.1</td>\n",
       "      <td>170.5</td>\n",
       "      <td>남</td>\n",
       "      <td>서울</td>\n",
       "      <td>대한민국</td>\n",
       "      <td>450</td>\n",
       "      <td>학생</td>\n",
       "      <td>20.67</td>\n",
       "    </tr>\n",
       "    <tr>\n",
       "      <th>성춘향</th>\n",
       "      <td>45</td>\n",
       "      <td>51.3</td>\n",
       "      <td>157.3</td>\n",
       "      <td>여</td>\n",
       "      <td>부산</td>\n",
       "      <td>대한민국</td>\n",
       "      <td>780</td>\n",
       "      <td>회사원</td>\n",
       "      <td>20.73</td>\n",
       "    </tr>\n",
       "    <tr>\n",
       "      <th>이몽룡</th>\n",
       "      <td>23</td>\n",
       "      <td>88.3</td>\n",
       "      <td>180.5</td>\n",
       "      <td>남</td>\n",
       "      <td>대구</td>\n",
       "      <td>대한민국</td>\n",
       "      <td>600</td>\n",
       "      <td>간호사</td>\n",
       "      <td>27.10</td>\n",
       "    </tr>\n",
       "    <tr>\n",
       "      <th>변학도</th>\n",
       "      <td>33</td>\n",
       "      <td>87.1</td>\n",
       "      <td>180.5</td>\n",
       "      <td>남</td>\n",
       "      <td>제주</td>\n",
       "      <td>대한민국</td>\n",
       "      <td>900</td>\n",
       "      <td>축구선수</td>\n",
       "      <td>26.73</td>\n",
       "    </tr>\n",
       "    <tr>\n",
       "      <th>박지성</th>\n",
       "      <td>40</td>\n",
       "      <td>87.1</td>\n",
       "      <td>170.5</td>\n",
       "      <td>남</td>\n",
       "      <td>강릉</td>\n",
       "      <td>대한민국</td>\n",
       "      <td>780</td>\n",
       "      <td>공무원</td>\n",
       "      <td>29.96</td>\n",
       "    </tr>\n",
       "  </tbody>\n",
       "</table>\n",
       "</div>"
      ],
      "text/plain": [
       "     나이   몸무게      키 성별  주소    국적  TOEIC    직업    BMI\n",
       "홍길동  22  60.1  170.5  남  서울  대한민국    450    학생  20.67\n",
       "성춘향  45  51.3  157.3  여  부산  대한민국    780   회사원  20.73\n",
       "이몽룡  23  88.3  180.5  남  대구  대한민국    600   간호사  27.10\n",
       "변학도  33  87.1  180.5  남  제주  대한민국    900  축구선수  26.73\n",
       "박지성  40  87.1  170.5  남  강릉  대한민국    780   공무원  29.96"
      ]
     },
     "execution_count": 41,
     "metadata": {},
     "output_type": "execute_result"
    }
   ],
   "source": [
    "# 다른 열을 이용해서 새로운 열 추가\n",
    "# bmi = 몸무게 / 키 제곱(미터)\n",
    "# 소수점 둘째자리까지 나오게 round() 함수 적용\n",
    "df['BMI']= round((df['몸무게'] / pow(df['키'],2) * 10000), 2)\n",
    "df"
   ]
  },
  {
   "cell_type": "code",
   "execution_count": 42,
   "metadata": {},
   "outputs": [
    {
     "data": {
      "text/html": [
       "<div>\n",
       "<style scoped>\n",
       "    .dataframe tbody tr th:only-of-type {\n",
       "        vertical-align: middle;\n",
       "    }\n",
       "\n",
       "    .dataframe tbody tr th {\n",
       "        vertical-align: top;\n",
       "    }\n",
       "\n",
       "    .dataframe thead th {\n",
       "        text-align: right;\n",
       "    }\n",
       "</style>\n",
       "<table border=\"1\" class=\"dataframe\">\n",
       "  <thead>\n",
       "    <tr style=\"text-align: right;\">\n",
       "      <th></th>\n",
       "      <th>나이</th>\n",
       "      <th>몸무게</th>\n",
       "      <th>키</th>\n",
       "      <th>성별</th>\n",
       "      <th>주소</th>\n",
       "      <th>국적</th>\n",
       "      <th>TOEIC</th>\n",
       "      <th>직업</th>\n",
       "      <th>BMI</th>\n",
       "    </tr>\n",
       "  </thead>\n",
       "  <tbody>\n",
       "    <tr>\n",
       "      <th>손연재</th>\n",
       "      <td>25</td>\n",
       "      <td>50.5</td>\n",
       "      <td>159.4</td>\n",
       "      <td>여</td>\n",
       "      <td>인천</td>\n",
       "      <td>대한민국</td>\n",
       "      <td>700</td>\n",
       "      <td>학생</td>\n",
       "      <td>20.02</td>\n",
       "    </tr>\n",
       "  </tbody>\n",
       "</table>\n",
       "</div>"
      ],
      "text/plain": [
       "     나이   몸무게      키 성별  주소    국적  TOEIC  직업    BMI\n",
       "손연재  25  50.5  159.4  여  인천  대한민국    700  학생  20.02"
      ]
     },
     "execution_count": 42,
     "metadata": {},
     "output_type": "execute_result"
    }
   ],
   "source": [
    "# 행 추가\n",
    "# - 추가할 데이터를 데이터프레임으로 생성한 후\n",
    "# - append() 함수 사용해서 기존 데이터프레임에 새 데이터프레임 추가\n",
    "new_row = [[25,50.5,159.4,'여','인천','대한민국',700,'학생',20.02]]\n",
    "new_df = pd.DataFrame(new_row, columns=df.columns, index=['손연재'])\n",
    "new_df"
   ]
  },
  {
   "cell_type": "code",
   "execution_count": 43,
   "metadata": {},
   "outputs": [
    {
     "data": {
      "text/html": [
       "<div>\n",
       "<style scoped>\n",
       "    .dataframe tbody tr th:only-of-type {\n",
       "        vertical-align: middle;\n",
       "    }\n",
       "\n",
       "    .dataframe tbody tr th {\n",
       "        vertical-align: top;\n",
       "    }\n",
       "\n",
       "    .dataframe thead th {\n",
       "        text-align: right;\n",
       "    }\n",
       "</style>\n",
       "<table border=\"1\" class=\"dataframe\">\n",
       "  <thead>\n",
       "    <tr style=\"text-align: right;\">\n",
       "      <th></th>\n",
       "      <th>나이</th>\n",
       "      <th>몸무게</th>\n",
       "      <th>키</th>\n",
       "      <th>성별</th>\n",
       "      <th>주소</th>\n",
       "      <th>국적</th>\n",
       "      <th>TOEIC</th>\n",
       "      <th>직업</th>\n",
       "      <th>BMI</th>\n",
       "    </tr>\n",
       "  </thead>\n",
       "  <tbody>\n",
       "    <tr>\n",
       "      <th>홍길동</th>\n",
       "      <td>22</td>\n",
       "      <td>60.1</td>\n",
       "      <td>170.5</td>\n",
       "      <td>남</td>\n",
       "      <td>서울</td>\n",
       "      <td>대한민국</td>\n",
       "      <td>450</td>\n",
       "      <td>학생</td>\n",
       "      <td>20.67</td>\n",
       "    </tr>\n",
       "    <tr>\n",
       "      <th>성춘향</th>\n",
       "      <td>45</td>\n",
       "      <td>51.3</td>\n",
       "      <td>157.3</td>\n",
       "      <td>여</td>\n",
       "      <td>부산</td>\n",
       "      <td>대한민국</td>\n",
       "      <td>780</td>\n",
       "      <td>회사원</td>\n",
       "      <td>20.73</td>\n",
       "    </tr>\n",
       "    <tr>\n",
       "      <th>이몽룡</th>\n",
       "      <td>23</td>\n",
       "      <td>88.3</td>\n",
       "      <td>180.5</td>\n",
       "      <td>남</td>\n",
       "      <td>대구</td>\n",
       "      <td>대한민국</td>\n",
       "      <td>600</td>\n",
       "      <td>간호사</td>\n",
       "      <td>27.10</td>\n",
       "    </tr>\n",
       "    <tr>\n",
       "      <th>변학도</th>\n",
       "      <td>33</td>\n",
       "      <td>87.1</td>\n",
       "      <td>180.5</td>\n",
       "      <td>남</td>\n",
       "      <td>제주</td>\n",
       "      <td>대한민국</td>\n",
       "      <td>900</td>\n",
       "      <td>축구선수</td>\n",
       "      <td>26.73</td>\n",
       "    </tr>\n",
       "    <tr>\n",
       "      <th>박지성</th>\n",
       "      <td>40</td>\n",
       "      <td>87.1</td>\n",
       "      <td>170.5</td>\n",
       "      <td>남</td>\n",
       "      <td>강릉</td>\n",
       "      <td>대한민국</td>\n",
       "      <td>780</td>\n",
       "      <td>공무원</td>\n",
       "      <td>29.96</td>\n",
       "    </tr>\n",
       "    <tr>\n",
       "      <th>손연재</th>\n",
       "      <td>25</td>\n",
       "      <td>50.5</td>\n",
       "      <td>159.4</td>\n",
       "      <td>여</td>\n",
       "      <td>인천</td>\n",
       "      <td>대한민국</td>\n",
       "      <td>700</td>\n",
       "      <td>학생</td>\n",
       "      <td>20.02</td>\n",
       "    </tr>\n",
       "  </tbody>\n",
       "</table>\n",
       "</div>"
      ],
      "text/plain": [
       "     나이   몸무게      키 성별  주소    국적  TOEIC    직업    BMI\n",
       "홍길동  22  60.1  170.5  남  서울  대한민국    450    학생  20.67\n",
       "성춘향  45  51.3  157.3  여  부산  대한민국    780   회사원  20.73\n",
       "이몽룡  23  88.3  180.5  남  대구  대한민국    600   간호사  27.10\n",
       "변학도  33  87.1  180.5  남  제주  대한민국    900  축구선수  26.73\n",
       "박지성  40  87.1  170.5  남  강릉  대한민국    780   공무원  29.96\n",
       "손연재  25  50.5  159.4  여  인천  대한민국    700    학생  20.02"
      ]
     },
     "execution_count": 43,
     "metadata": {},
     "output_type": "execute_result"
    }
   ],
   "source": [
    "df2 = df.append(new_df)\n",
    "df2"
   ]
  },
  {
   "cell_type": "code",
   "execution_count": 44,
   "metadata": {},
   "outputs": [
    {
     "data": {
      "text/html": [
       "<div>\n",
       "<style scoped>\n",
       "    .dataframe tbody tr th:only-of-type {\n",
       "        vertical-align: middle;\n",
       "    }\n",
       "\n",
       "    .dataframe tbody tr th {\n",
       "        vertical-align: top;\n",
       "    }\n",
       "\n",
       "    .dataframe thead th {\n",
       "        text-align: right;\n",
       "    }\n",
       "</style>\n",
       "<table border=\"1\" class=\"dataframe\">\n",
       "  <thead>\n",
       "    <tr style=\"text-align: right;\">\n",
       "      <th></th>\n",
       "      <th>나이</th>\n",
       "      <th>몸무게</th>\n",
       "      <th>키</th>\n",
       "      <th>성별</th>\n",
       "      <th>주소</th>\n",
       "      <th>국적</th>\n",
       "      <th>TOEIC</th>\n",
       "      <th>직업</th>\n",
       "      <th>BMI</th>\n",
       "    </tr>\n",
       "  </thead>\n",
       "  <tbody>\n",
       "    <tr>\n",
       "      <th>홍길동</th>\n",
       "      <td>22</td>\n",
       "      <td>60.1</td>\n",
       "      <td>170.5</td>\n",
       "      <td>남</td>\n",
       "      <td>서울</td>\n",
       "      <td>대한민국</td>\n",
       "      <td>450</td>\n",
       "      <td>학생</td>\n",
       "      <td>20.67</td>\n",
       "    </tr>\n",
       "    <tr>\n",
       "      <th>성춘향</th>\n",
       "      <td>45</td>\n",
       "      <td>51.3</td>\n",
       "      <td>157.3</td>\n",
       "      <td>여</td>\n",
       "      <td>부산</td>\n",
       "      <td>대한민국</td>\n",
       "      <td>780</td>\n",
       "      <td>회사원</td>\n",
       "      <td>20.73</td>\n",
       "    </tr>\n",
       "    <tr>\n",
       "      <th>이몽룡</th>\n",
       "      <td>23</td>\n",
       "      <td>88.3</td>\n",
       "      <td>180.5</td>\n",
       "      <td>남</td>\n",
       "      <td>대구</td>\n",
       "      <td>대한민국</td>\n",
       "      <td>600</td>\n",
       "      <td>간호사</td>\n",
       "      <td>27.10</td>\n",
       "    </tr>\n",
       "    <tr>\n",
       "      <th>변학도</th>\n",
       "      <td>33</td>\n",
       "      <td>87.1</td>\n",
       "      <td>180.5</td>\n",
       "      <td>남</td>\n",
       "      <td>제주</td>\n",
       "      <td>대한민국</td>\n",
       "      <td>900</td>\n",
       "      <td>축구선수</td>\n",
       "      <td>26.73</td>\n",
       "    </tr>\n",
       "    <tr>\n",
       "      <th>박지성</th>\n",
       "      <td>40</td>\n",
       "      <td>87.1</td>\n",
       "      <td>170.5</td>\n",
       "      <td>남</td>\n",
       "      <td>강릉</td>\n",
       "      <td>대한민국</td>\n",
       "      <td>780</td>\n",
       "      <td>공무원</td>\n",
       "      <td>29.96</td>\n",
       "    </tr>\n",
       "    <tr>\n",
       "      <th>손연재</th>\n",
       "      <td>25</td>\n",
       "      <td>50.5</td>\n",
       "      <td>159.4</td>\n",
       "      <td>여</td>\n",
       "      <td>인천</td>\n",
       "      <td>대한민국</td>\n",
       "      <td>700</td>\n",
       "      <td>학생</td>\n",
       "      <td>20.02</td>\n",
       "    </tr>\n",
       "    <tr>\n",
       "      <th>박병호</th>\n",
       "      <td>30</td>\n",
       "      <td>70.5</td>\n",
       "      <td>170.5</td>\n",
       "      <td>남</td>\n",
       "      <td>부산</td>\n",
       "      <td>대한민국</td>\n",
       "      <td>800</td>\n",
       "      <td>회사원</td>\n",
       "      <td>22.55</td>\n",
       "    </tr>\n",
       "  </tbody>\n",
       "</table>\n",
       "</div>"
      ],
      "text/plain": [
       "     나이   몸무게      키 성별  주소    국적  TOEIC    직업    BMI\n",
       "홍길동  22  60.1  170.5  남  서울  대한민국    450    학생  20.67\n",
       "성춘향  45  51.3  157.3  여  부산  대한민국    780   회사원  20.73\n",
       "이몽룡  23  88.3  180.5  남  대구  대한민국    600   간호사  27.10\n",
       "변학도  33  87.1  180.5  남  제주  대한민국    900  축구선수  26.73\n",
       "박지성  40  87.1  170.5  남  강릉  대한민국    780   공무원  29.96\n",
       "손연재  25  50.5  159.4  여  인천  대한민국    700    학생  20.02\n",
       "박병호  30  70.5  170.5  남  부산  대한민국    800   회사원  22.55"
      ]
     },
     "execution_count": 44,
     "metadata": {},
     "output_type": "execute_result"
    }
   ],
   "source": [
    "# 또는 loc 인덱서 사용해서 데이터프레임 행 추가\n",
    "# loc = 라벨값 기반의 인덱싱 : 뒤에서 상세히 다룰 것임\n",
    "df2.loc['박병호']=[30,70.5,170.5,'남','부산','대한민국',800,'회사원',22.55]\n",
    "df2"
   ]
  },
  {
   "cell_type": "code",
   "execution_count": 45,
   "metadata": {},
   "outputs": [
    {
     "data": {
      "text/html": [
       "<div>\n",
       "<style scoped>\n",
       "    .dataframe tbody tr th:only-of-type {\n",
       "        vertical-align: middle;\n",
       "    }\n",
       "\n",
       "    .dataframe tbody tr th {\n",
       "        vertical-align: top;\n",
       "    }\n",
       "\n",
       "    .dataframe thead th {\n",
       "        text-align: right;\n",
       "    }\n",
       "</style>\n",
       "<table border=\"1\" class=\"dataframe\">\n",
       "  <thead>\n",
       "    <tr style=\"text-align: right;\">\n",
       "      <th></th>\n",
       "      <th>나이</th>\n",
       "      <th>몸무게</th>\n",
       "      <th>키</th>\n",
       "      <th>성별</th>\n",
       "      <th>주소</th>\n",
       "      <th>국적</th>\n",
       "      <th>TOEIC</th>\n",
       "      <th>직업</th>\n",
       "      <th>BMI</th>\n",
       "    </tr>\n",
       "  </thead>\n",
       "  <tbody>\n",
       "    <tr>\n",
       "      <th>홍길동</th>\n",
       "      <td>22</td>\n",
       "      <td>60.1</td>\n",
       "      <td>170.5</td>\n",
       "      <td>남</td>\n",
       "      <td>서울</td>\n",
       "      <td>대한민국</td>\n",
       "      <td>470</td>\n",
       "      <td>학생</td>\n",
       "      <td>20.67</td>\n",
       "    </tr>\n",
       "    <tr>\n",
       "      <th>성춘향</th>\n",
       "      <td>45</td>\n",
       "      <td>51.3</td>\n",
       "      <td>157.3</td>\n",
       "      <td>여</td>\n",
       "      <td>부산</td>\n",
       "      <td>대한민국</td>\n",
       "      <td>900</td>\n",
       "      <td>회사원</td>\n",
       "      <td>20.73</td>\n",
       "    </tr>\n",
       "    <tr>\n",
       "      <th>이몽룡</th>\n",
       "      <td>23</td>\n",
       "      <td>88.3</td>\n",
       "      <td>180.5</td>\n",
       "      <td>남</td>\n",
       "      <td>대구</td>\n",
       "      <td>대한민국</td>\n",
       "      <td>800</td>\n",
       "      <td>간호사</td>\n",
       "      <td>27.10</td>\n",
       "    </tr>\n",
       "    <tr>\n",
       "      <th>변학도</th>\n",
       "      <td>33</td>\n",
       "      <td>87.1</td>\n",
       "      <td>180.5</td>\n",
       "      <td>남</td>\n",
       "      <td>제주</td>\n",
       "      <td>대한민국</td>\n",
       "      <td>520</td>\n",
       "      <td>축구선수</td>\n",
       "      <td>26.73</td>\n",
       "    </tr>\n",
       "    <tr>\n",
       "      <th>박지성</th>\n",
       "      <td>40</td>\n",
       "      <td>87.1</td>\n",
       "      <td>170.5</td>\n",
       "      <td>남</td>\n",
       "      <td>강릉</td>\n",
       "      <td>대한민국</td>\n",
       "      <td>700</td>\n",
       "      <td>공무원</td>\n",
       "      <td>29.96</td>\n",
       "    </tr>\n",
       "    <tr>\n",
       "      <th>손연재</th>\n",
       "      <td>25</td>\n",
       "      <td>50.5</td>\n",
       "      <td>159.4</td>\n",
       "      <td>여</td>\n",
       "      <td>인천</td>\n",
       "      <td>대한민국</td>\n",
       "      <td>800</td>\n",
       "      <td>학생</td>\n",
       "      <td>20.02</td>\n",
       "    </tr>\n",
       "    <tr>\n",
       "      <th>박병호</th>\n",
       "      <td>30</td>\n",
       "      <td>70.5</td>\n",
       "      <td>170.5</td>\n",
       "      <td>남</td>\n",
       "      <td>부산</td>\n",
       "      <td>대한민국</td>\n",
       "      <td>450</td>\n",
       "      <td>회사원</td>\n",
       "      <td>22.55</td>\n",
       "    </tr>\n",
       "  </tbody>\n",
       "</table>\n",
       "</div>"
      ],
      "text/plain": [
       "     나이   몸무게      키 성별  주소    국적  TOEIC    직업    BMI\n",
       "홍길동  22  60.1  170.5  남  서울  대한민국    470    학생  20.67\n",
       "성춘향  45  51.3  157.3  여  부산  대한민국    900   회사원  20.73\n",
       "이몽룡  23  88.3  180.5  남  대구  대한민국    800   간호사  27.10\n",
       "변학도  33  87.1  180.5  남  제주  대한민국    520  축구선수  26.73\n",
       "박지성  40  87.1  170.5  남  강릉  대한민국    700   공무원  29.96\n",
       "손연재  25  50.5  159.4  여  인천  대한민국    800    학생  20.02\n",
       "박병호  30  70.5  170.5  남  부산  대한민국    450   회사원  22.55"
      ]
     },
     "execution_count": 45,
     "metadata": {},
     "output_type": "execute_result"
    }
   ],
   "source": [
    "# 열의 값 수정\n",
    "# 열 이름이 존재하지 않으면 새로운 열로 추가되고\n",
    "# 열 이름이 존재하면 새로운 값으로 기존 값을 덮어 씀\n",
    "df2['TOEIC'] = [470,900,800,520,700,800,450]\n",
    "df2"
   ]
  },
  {
   "cell_type": "code",
   "execution_count": 46,
   "metadata": {},
   "outputs": [
    {
     "data": {
      "text/html": [
       "<div>\n",
       "<style scoped>\n",
       "    .dataframe tbody tr th:only-of-type {\n",
       "        vertical-align: middle;\n",
       "    }\n",
       "\n",
       "    .dataframe tbody tr th {\n",
       "        vertical-align: top;\n",
       "    }\n",
       "\n",
       "    .dataframe thead th {\n",
       "        text-align: right;\n",
       "    }\n",
       "</style>\n",
       "<table border=\"1\" class=\"dataframe\">\n",
       "  <thead>\n",
       "    <tr style=\"text-align: right;\">\n",
       "      <th></th>\n",
       "      <th>나이</th>\n",
       "      <th>몸무게</th>\n",
       "      <th>키</th>\n",
       "      <th>성별</th>\n",
       "      <th>주소</th>\n",
       "      <th>국적</th>\n",
       "      <th>TOEIC</th>\n",
       "      <th>직업</th>\n",
       "      <th>BMI</th>\n",
       "    </tr>\n",
       "  </thead>\n",
       "  <tbody>\n",
       "    <tr>\n",
       "      <th>홍길동</th>\n",
       "      <td>22</td>\n",
       "      <td>60.1</td>\n",
       "      <td>170.5</td>\n",
       "      <td>남</td>\n",
       "      <td>서울</td>\n",
       "      <td>대한민국</td>\n",
       "      <td>470</td>\n",
       "      <td>학생</td>\n",
       "      <td>20.67</td>\n",
       "    </tr>\n",
       "    <tr>\n",
       "      <th>성춘향</th>\n",
       "      <td>45</td>\n",
       "      <td>51.3</td>\n",
       "      <td>157.3</td>\n",
       "      <td>여</td>\n",
       "      <td>부산</td>\n",
       "      <td>대한민국</td>\n",
       "      <td>900</td>\n",
       "      <td>회사원</td>\n",
       "      <td>20.73</td>\n",
       "    </tr>\n",
       "    <tr>\n",
       "      <th>이몽룡</th>\n",
       "      <td>23</td>\n",
       "      <td>88.3</td>\n",
       "      <td>180.5</td>\n",
       "      <td>남</td>\n",
       "      <td>대구</td>\n",
       "      <td>대한민국</td>\n",
       "      <td>800</td>\n",
       "      <td>간호사</td>\n",
       "      <td>27.10</td>\n",
       "    </tr>\n",
       "    <tr>\n",
       "      <th>박지성</th>\n",
       "      <td>40</td>\n",
       "      <td>87.1</td>\n",
       "      <td>170.5</td>\n",
       "      <td>남</td>\n",
       "      <td>강릉</td>\n",
       "      <td>대한민국</td>\n",
       "      <td>700</td>\n",
       "      <td>공무원</td>\n",
       "      <td>29.96</td>\n",
       "    </tr>\n",
       "    <tr>\n",
       "      <th>손연재</th>\n",
       "      <td>25</td>\n",
       "      <td>50.5</td>\n",
       "      <td>159.4</td>\n",
       "      <td>여</td>\n",
       "      <td>인천</td>\n",
       "      <td>대한민국</td>\n",
       "      <td>800</td>\n",
       "      <td>학생</td>\n",
       "      <td>20.02</td>\n",
       "    </tr>\n",
       "    <tr>\n",
       "      <th>박병호</th>\n",
       "      <td>30</td>\n",
       "      <td>70.5</td>\n",
       "      <td>170.5</td>\n",
       "      <td>남</td>\n",
       "      <td>부산</td>\n",
       "      <td>대한민국</td>\n",
       "      <td>450</td>\n",
       "      <td>회사원</td>\n",
       "      <td>22.55</td>\n",
       "    </tr>\n",
       "  </tbody>\n",
       "</table>\n",
       "</div>"
      ],
      "text/plain": [
       "     나이   몸무게      키 성별  주소    국적  TOEIC   직업    BMI\n",
       "홍길동  22  60.1  170.5  남  서울  대한민국    470   학생  20.67\n",
       "성춘향  45  51.3  157.3  여  부산  대한민국    900  회사원  20.73\n",
       "이몽룡  23  88.3  180.5  남  대구  대한민국    800  간호사  27.10\n",
       "박지성  40  87.1  170.5  남  강릉  대한민국    700  공무원  29.96\n",
       "손연재  25  50.5  159.4  여  인천  대한민국    800   학생  20.02\n",
       "박병호  30  70.5  170.5  남  부산  대한민국    450  회사원  22.55"
      ]
     },
     "execution_count": 46,
     "metadata": {},
     "output_type": "execute_result"
    }
   ],
   "source": [
    "# 행 삭제 : drop(행 인덱스 이름) 함수 사용\n",
    "df2 = df2.drop('변학도') # 1개 행 삭제\n",
    "df2"
   ]
  },
  {
   "cell_type": "code",
   "execution_count": 47,
   "metadata": {},
   "outputs": [
    {
     "data": {
      "text/html": [
       "<div>\n",
       "<style scoped>\n",
       "    .dataframe tbody tr th:only-of-type {\n",
       "        vertical-align: middle;\n",
       "    }\n",
       "\n",
       "    .dataframe tbody tr th {\n",
       "        vertical-align: top;\n",
       "    }\n",
       "\n",
       "    .dataframe thead th {\n",
       "        text-align: right;\n",
       "    }\n",
       "</style>\n",
       "<table border=\"1\" class=\"dataframe\">\n",
       "  <thead>\n",
       "    <tr style=\"text-align: right;\">\n",
       "      <th></th>\n",
       "      <th>나이</th>\n",
       "      <th>몸무게</th>\n",
       "      <th>키</th>\n",
       "      <th>성별</th>\n",
       "      <th>주소</th>\n",
       "      <th>국적</th>\n",
       "      <th>TOEIC</th>\n",
       "      <th>직업</th>\n",
       "      <th>BMI</th>\n",
       "    </tr>\n",
       "  </thead>\n",
       "  <tbody>\n",
       "    <tr>\n",
       "      <th>홍길동</th>\n",
       "      <td>22</td>\n",
       "      <td>60.1</td>\n",
       "      <td>170.5</td>\n",
       "      <td>남</td>\n",
       "      <td>서울</td>\n",
       "      <td>대한민국</td>\n",
       "      <td>470</td>\n",
       "      <td>학생</td>\n",
       "      <td>20.67</td>\n",
       "    </tr>\n",
       "    <tr>\n",
       "      <th>성춘향</th>\n",
       "      <td>45</td>\n",
       "      <td>51.3</td>\n",
       "      <td>157.3</td>\n",
       "      <td>여</td>\n",
       "      <td>부산</td>\n",
       "      <td>대한민국</td>\n",
       "      <td>900</td>\n",
       "      <td>회사원</td>\n",
       "      <td>20.73</td>\n",
       "    </tr>\n",
       "    <tr>\n",
       "      <th>손연재</th>\n",
       "      <td>25</td>\n",
       "      <td>50.5</td>\n",
       "      <td>159.4</td>\n",
       "      <td>여</td>\n",
       "      <td>인천</td>\n",
       "      <td>대한민국</td>\n",
       "      <td>800</td>\n",
       "      <td>학생</td>\n",
       "      <td>20.02</td>\n",
       "    </tr>\n",
       "    <tr>\n",
       "      <th>박병호</th>\n",
       "      <td>30</td>\n",
       "      <td>70.5</td>\n",
       "      <td>170.5</td>\n",
       "      <td>남</td>\n",
       "      <td>부산</td>\n",
       "      <td>대한민국</td>\n",
       "      <td>450</td>\n",
       "      <td>회사원</td>\n",
       "      <td>22.55</td>\n",
       "    </tr>\n",
       "  </tbody>\n",
       "</table>\n",
       "</div>"
      ],
      "text/plain": [
       "     나이   몸무게      키 성별  주소    국적  TOEIC   직업    BMI\n",
       "홍길동  22  60.1  170.5  남  서울  대한민국    470   학생  20.67\n",
       "성춘향  45  51.3  157.3  여  부산  대한민국    900  회사원  20.73\n",
       "손연재  25  50.5  159.4  여  인천  대한민국    800   학생  20.02\n",
       "박병호  30  70.5  170.5  남  부산  대한민국    450  회사원  22.55"
      ]
     },
     "execution_count": 47,
     "metadata": {},
     "output_type": "execute_result"
    }
   ],
   "source": [
    "# 여러 행 삭제 : drop([행 인덱스 여러 개])\n",
    "df2 = df2.drop(['이몽룡','박지성'])\n",
    "df2"
   ]
  },
  {
   "cell_type": "markdown",
   "metadata": {},
   "source": [
    "열 삭제\n",
    "(1) del 사용\n",
    "(2) drop() 사용"
   ]
  },
  {
   "cell_type": "code",
   "execution_count": 48,
   "metadata": {},
   "outputs": [
    {
     "data": {
      "text/html": [
       "<div>\n",
       "<style scoped>\n",
       "    .dataframe tbody tr th:only-of-type {\n",
       "        vertical-align: middle;\n",
       "    }\n",
       "\n",
       "    .dataframe tbody tr th {\n",
       "        vertical-align: top;\n",
       "    }\n",
       "\n",
       "    .dataframe thead th {\n",
       "        text-align: right;\n",
       "    }\n",
       "</style>\n",
       "<table border=\"1\" class=\"dataframe\">\n",
       "  <thead>\n",
       "    <tr style=\"text-align: right;\">\n",
       "      <th></th>\n",
       "      <th>몸무게</th>\n",
       "      <th>키</th>\n",
       "      <th>성별</th>\n",
       "      <th>주소</th>\n",
       "      <th>국적</th>\n",
       "      <th>TOEIC</th>\n",
       "      <th>직업</th>\n",
       "      <th>BMI</th>\n",
       "    </tr>\n",
       "  </thead>\n",
       "  <tbody>\n",
       "    <tr>\n",
       "      <th>홍길동</th>\n",
       "      <td>60.1</td>\n",
       "      <td>170.5</td>\n",
       "      <td>남</td>\n",
       "      <td>서울</td>\n",
       "      <td>대한민국</td>\n",
       "      <td>470</td>\n",
       "      <td>학생</td>\n",
       "      <td>20.67</td>\n",
       "    </tr>\n",
       "    <tr>\n",
       "      <th>성춘향</th>\n",
       "      <td>51.3</td>\n",
       "      <td>157.3</td>\n",
       "      <td>여</td>\n",
       "      <td>부산</td>\n",
       "      <td>대한민국</td>\n",
       "      <td>900</td>\n",
       "      <td>회사원</td>\n",
       "      <td>20.73</td>\n",
       "    </tr>\n",
       "    <tr>\n",
       "      <th>손연재</th>\n",
       "      <td>50.5</td>\n",
       "      <td>159.4</td>\n",
       "      <td>여</td>\n",
       "      <td>인천</td>\n",
       "      <td>대한민국</td>\n",
       "      <td>800</td>\n",
       "      <td>학생</td>\n",
       "      <td>20.02</td>\n",
       "    </tr>\n",
       "    <tr>\n",
       "      <th>박병호</th>\n",
       "      <td>70.5</td>\n",
       "      <td>170.5</td>\n",
       "      <td>남</td>\n",
       "      <td>부산</td>\n",
       "      <td>대한민국</td>\n",
       "      <td>450</td>\n",
       "      <td>회사원</td>\n",
       "      <td>22.55</td>\n",
       "    </tr>\n",
       "  </tbody>\n",
       "</table>\n",
       "</div>"
      ],
      "text/plain": [
       "      몸무게      키 성별  주소    국적  TOEIC   직업    BMI\n",
       "홍길동  60.1  170.5  남  서울  대한민국    470   학생  20.67\n",
       "성춘향  51.3  157.3  여  부산  대한민국    900  회사원  20.73\n",
       "손연재  50.5  159.4  여  인천  대한민국    800   학생  20.02\n",
       "박병호  70.5  170.5  남  부산  대한민국    450  회사원  22.55"
      ]
     },
     "execution_count": 48,
     "metadata": {},
     "output_type": "execute_result"
    }
   ],
   "source": [
    "# (1) del 사용\n",
    "# 1개 열 삭제\n",
    "del df2['나이']\n",
    "df2"
   ]
  },
  {
   "cell_type": "code",
   "execution_count": 49,
   "metadata": {},
   "outputs": [],
   "source": [
    "# 여러 개의 열 삭제\n",
    "# del df2[['성별','키']]    # 오류 발생"
   ]
  },
  {
   "cell_type": "code",
   "execution_count": 50,
   "metadata": {},
   "outputs": [
    {
     "data": {
      "text/html": [
       "<div>\n",
       "<style scoped>\n",
       "    .dataframe tbody tr th:only-of-type {\n",
       "        vertical-align: middle;\n",
       "    }\n",
       "\n",
       "    .dataframe tbody tr th {\n",
       "        vertical-align: top;\n",
       "    }\n",
       "\n",
       "    .dataframe thead th {\n",
       "        text-align: right;\n",
       "    }\n",
       "</style>\n",
       "<table border=\"1\" class=\"dataframe\">\n",
       "  <thead>\n",
       "    <tr style=\"text-align: right;\">\n",
       "      <th></th>\n",
       "      <th>나이</th>\n",
       "      <th>몸무게</th>\n",
       "      <th>키</th>\n",
       "      <th>성별</th>\n",
       "      <th>주소</th>\n",
       "      <th>국적</th>\n",
       "      <th>TOEIC</th>\n",
       "      <th>BMI</th>\n",
       "    </tr>\n",
       "  </thead>\n",
       "  <tbody>\n",
       "    <tr>\n",
       "      <th>홍길동</th>\n",
       "      <td>22</td>\n",
       "      <td>60.1</td>\n",
       "      <td>170.5</td>\n",
       "      <td>남</td>\n",
       "      <td>서울</td>\n",
       "      <td>대한민국</td>\n",
       "      <td>450</td>\n",
       "      <td>20.67</td>\n",
       "    </tr>\n",
       "    <tr>\n",
       "      <th>성춘향</th>\n",
       "      <td>45</td>\n",
       "      <td>51.3</td>\n",
       "      <td>157.3</td>\n",
       "      <td>여</td>\n",
       "      <td>부산</td>\n",
       "      <td>대한민국</td>\n",
       "      <td>780</td>\n",
       "      <td>20.73</td>\n",
       "    </tr>\n",
       "    <tr>\n",
       "      <th>이몽룡</th>\n",
       "      <td>23</td>\n",
       "      <td>88.3</td>\n",
       "      <td>180.5</td>\n",
       "      <td>남</td>\n",
       "      <td>대구</td>\n",
       "      <td>대한민국</td>\n",
       "      <td>600</td>\n",
       "      <td>27.10</td>\n",
       "    </tr>\n",
       "    <tr>\n",
       "      <th>변학도</th>\n",
       "      <td>33</td>\n",
       "      <td>87.1</td>\n",
       "      <td>180.5</td>\n",
       "      <td>남</td>\n",
       "      <td>제주</td>\n",
       "      <td>대한민국</td>\n",
       "      <td>900</td>\n",
       "      <td>26.73</td>\n",
       "    </tr>\n",
       "    <tr>\n",
       "      <th>박지성</th>\n",
       "      <td>40</td>\n",
       "      <td>87.1</td>\n",
       "      <td>170.5</td>\n",
       "      <td>남</td>\n",
       "      <td>강릉</td>\n",
       "      <td>대한민국</td>\n",
       "      <td>780</td>\n",
       "      <td>29.96</td>\n",
       "    </tr>\n",
       "  </tbody>\n",
       "</table>\n",
       "</div>"
      ],
      "text/plain": [
       "     나이   몸무게      키 성별  주소    국적  TOEIC    BMI\n",
       "홍길동  22  60.1  170.5  남  서울  대한민국    450  20.67\n",
       "성춘향  45  51.3  157.3  여  부산  대한민국    780  20.73\n",
       "이몽룡  23  88.3  180.5  남  대구  대한민국    600  27.10\n",
       "변학도  33  87.1  180.5  남  제주  대한민국    900  26.73\n",
       "박지성  40  87.1  170.5  남  강릉  대한민국    780  29.96"
      ]
     },
     "execution_count": 50,
     "metadata": {},
     "output_type": "execute_result"
    }
   ],
   "source": [
    "# 열삭제 : drop(열 이름, axis = 1)\n",
    "# 1개 열 삭제\n",
    "df2 = df.drop('직업', axis = 1)\n",
    "df2"
   ]
  },
  {
   "cell_type": "code",
   "execution_count": 51,
   "metadata": {},
   "outputs": [
    {
     "data": {
      "text/html": [
       "<div>\n",
       "<style scoped>\n",
       "    .dataframe tbody tr th:only-of-type {\n",
       "        vertical-align: middle;\n",
       "    }\n",
       "\n",
       "    .dataframe tbody tr th {\n",
       "        vertical-align: top;\n",
       "    }\n",
       "\n",
       "    .dataframe thead th {\n",
       "        text-align: right;\n",
       "    }\n",
       "</style>\n",
       "<table border=\"1\" class=\"dataframe\">\n",
       "  <thead>\n",
       "    <tr style=\"text-align: right;\">\n",
       "      <th></th>\n",
       "      <th>나이</th>\n",
       "      <th>성별</th>\n",
       "      <th>주소</th>\n",
       "      <th>국적</th>\n",
       "      <th>TOEIC</th>\n",
       "      <th>BMI</th>\n",
       "    </tr>\n",
       "  </thead>\n",
       "  <tbody>\n",
       "    <tr>\n",
       "      <th>홍길동</th>\n",
       "      <td>22</td>\n",
       "      <td>남</td>\n",
       "      <td>서울</td>\n",
       "      <td>대한민국</td>\n",
       "      <td>450</td>\n",
       "      <td>20.67</td>\n",
       "    </tr>\n",
       "    <tr>\n",
       "      <th>성춘향</th>\n",
       "      <td>45</td>\n",
       "      <td>여</td>\n",
       "      <td>부산</td>\n",
       "      <td>대한민국</td>\n",
       "      <td>780</td>\n",
       "      <td>20.73</td>\n",
       "    </tr>\n",
       "    <tr>\n",
       "      <th>이몽룡</th>\n",
       "      <td>23</td>\n",
       "      <td>남</td>\n",
       "      <td>대구</td>\n",
       "      <td>대한민국</td>\n",
       "      <td>600</td>\n",
       "      <td>27.10</td>\n",
       "    </tr>\n",
       "    <tr>\n",
       "      <th>변학도</th>\n",
       "      <td>33</td>\n",
       "      <td>남</td>\n",
       "      <td>제주</td>\n",
       "      <td>대한민국</td>\n",
       "      <td>900</td>\n",
       "      <td>26.73</td>\n",
       "    </tr>\n",
       "    <tr>\n",
       "      <th>박지성</th>\n",
       "      <td>40</td>\n",
       "      <td>남</td>\n",
       "      <td>강릉</td>\n",
       "      <td>대한민국</td>\n",
       "      <td>780</td>\n",
       "      <td>29.96</td>\n",
       "    </tr>\n",
       "  </tbody>\n",
       "</table>\n",
       "</div>"
      ],
      "text/plain": [
       "     나이 성별  주소    국적  TOEIC    BMI\n",
       "홍길동  22  남  서울  대한민국    450  20.67\n",
       "성춘향  45  여  부산  대한민국    780  20.73\n",
       "이몽룡  23  남  대구  대한민국    600  27.10\n",
       "변학도  33  남  제주  대한민국    900  26.73\n",
       "박지성  40  남  강릉  대한민국    780  29.96"
      ]
     },
     "execution_count": 51,
     "metadata": {},
     "output_type": "execute_result"
    }
   ],
   "source": [
    "# 여러 개의 열 삭제 : drop([여러 개의 열], axis=1)\n",
    "df2 = df2.drop(['키','몸무게'], axis=1)\n",
    "df2"
   ]
  },
  {
   "cell_type": "markdown",
   "metadata": {},
   "source": [
    "값, 행방향 인덱스, 열 이름(열 방향 인덱스 확인)\n",
    "- df.values\n",
    "- df.columns\n",
    "- df.index"
   ]
  },
  {
   "cell_type": "code",
   "execution_count": 52,
   "metadata": {},
   "outputs": [
    {
     "data": {
      "text/plain": [
       "array([[22, 60.1, 170.5, '남', '서울', '대한민국', 450, '학생', 20.67],\n",
       "       [45, 51.3, 157.3, '여', '부산', '대한민국', 780, '회사원', 20.73],\n",
       "       [23, 88.3, 180.5, '남', '대구', '대한민국', 600, '간호사', 27.1],\n",
       "       [33, 87.1, 180.5, '남', '제주', '대한민국', 900, '축구선수', 26.73],\n",
       "       [40, 87.1, 170.5, '남', '강릉', '대한민국', 780, '공무원', 29.96]],\n",
       "      dtype=object)"
      ]
     },
     "execution_count": 52,
     "metadata": {},
     "output_type": "execute_result"
    }
   ],
   "source": [
    "# 값 (values) 확인\n",
    "df.values"
   ]
  },
  {
   "cell_type": "code",
   "execution_count": 53,
   "metadata": {},
   "outputs": [
    {
     "data": {
      "text/plain": [
       "Index(['나이', '몸무게', '키', '성별', '주소', '국적', 'TOEIC', '직업', 'BMI'], dtype='object')"
      ]
     },
     "execution_count": 53,
     "metadata": {},
     "output_type": "execute_result"
    }
   ],
   "source": [
    "# 열 이름(열 방향 인덱스 확인)\n",
    "df.columns"
   ]
  },
  {
   "cell_type": "code",
   "execution_count": 54,
   "metadata": {},
   "outputs": [
    {
     "data": {
      "text/plain": [
       "Index(['홍길동', '성춘향', '이몽룡', '변학도', '박지성'], dtype='object')"
      ]
     },
     "execution_count": 54,
     "metadata": {},
     "output_type": "execute_result"
    }
   ],
   "source": [
    "# 행방향 인덱스\n",
    "df.index"
   ]
  },
  {
   "cell_type": "code",
   "execution_count": 55,
   "metadata": {},
   "outputs": [
    {
     "name": "stdout",
     "output_type": "stream",
     "text": [
      "<class 'pandas.core.frame.DataFrame'>\n",
      "Index: 5 entries, 홍길동 to 박지성\n",
      "Data columns (total 9 columns):\n",
      " #   Column  Non-Null Count  Dtype  \n",
      "---  ------  --------------  -----  \n",
      " 0   나이      5 non-null      int64  \n",
      " 1   몸무게     5 non-null      float64\n",
      " 2   키       5 non-null      float64\n",
      " 3   성별      5 non-null      object \n",
      " 4   주소      5 non-null      object \n",
      " 5   국적      5 non-null      object \n",
      " 6   TOEIC   5 non-null      int64  \n",
      " 7   직업      5 non-null      object \n",
      " 8   BMI     5 non-null      float64\n",
      "dtypes: float64(3), int64(2), object(4)\n",
      "memory usage: 400.0+ bytes\n"
     ]
    }
   ],
   "source": [
    "# DataFrame의 개요 출력 : info() 함수 사용\n",
    "df.info()"
   ]
  },
  {
   "cell_type": "code",
   "execution_count": 56,
   "metadata": {},
   "outputs": [
    {
     "data": {
      "text/html": [
       "<div>\n",
       "<style scoped>\n",
       "    .dataframe tbody tr th:only-of-type {\n",
       "        vertical-align: middle;\n",
       "    }\n",
       "\n",
       "    .dataframe tbody tr th {\n",
       "        vertical-align: top;\n",
       "    }\n",
       "\n",
       "    .dataframe thead th {\n",
       "        text-align: right;\n",
       "    }\n",
       "</style>\n",
       "<table border=\"1\" class=\"dataframe\">\n",
       "  <thead>\n",
       "    <tr style=\"text-align: right;\">\n",
       "      <th></th>\n",
       "      <th>나이</th>\n",
       "      <th>몸무게</th>\n",
       "      <th>키</th>\n",
       "      <th>TOEIC</th>\n",
       "      <th>BMI</th>\n",
       "    </tr>\n",
       "  </thead>\n",
       "  <tbody>\n",
       "    <tr>\n",
       "      <th>count</th>\n",
       "      <td>5.000000</td>\n",
       "      <td>5.000000</td>\n",
       "      <td>5.000000</td>\n",
       "      <td>5.000000</td>\n",
       "      <td>5.000000</td>\n",
       "    </tr>\n",
       "    <tr>\n",
       "      <th>mean</th>\n",
       "      <td>32.600000</td>\n",
       "      <td>74.780000</td>\n",
       "      <td>171.860000</td>\n",
       "      <td>702.000000</td>\n",
       "      <td>25.038000</td>\n",
       "    </tr>\n",
       "    <tr>\n",
       "      <th>std</th>\n",
       "      <td>10.163661</td>\n",
       "      <td>17.700056</td>\n",
       "      <td>9.552382</td>\n",
       "      <td>176.974574</td>\n",
       "      <td>4.152682</td>\n",
       "    </tr>\n",
       "    <tr>\n",
       "      <th>min</th>\n",
       "      <td>22.000000</td>\n",
       "      <td>51.300000</td>\n",
       "      <td>157.300000</td>\n",
       "      <td>450.000000</td>\n",
       "      <td>20.670000</td>\n",
       "    </tr>\n",
       "    <tr>\n",
       "      <th>25%</th>\n",
       "      <td>23.000000</td>\n",
       "      <td>60.100000</td>\n",
       "      <td>170.500000</td>\n",
       "      <td>600.000000</td>\n",
       "      <td>20.730000</td>\n",
       "    </tr>\n",
       "    <tr>\n",
       "      <th>50%</th>\n",
       "      <td>33.000000</td>\n",
       "      <td>87.100000</td>\n",
       "      <td>170.500000</td>\n",
       "      <td>780.000000</td>\n",
       "      <td>26.730000</td>\n",
       "    </tr>\n",
       "    <tr>\n",
       "      <th>75%</th>\n",
       "      <td>40.000000</td>\n",
       "      <td>87.100000</td>\n",
       "      <td>180.500000</td>\n",
       "      <td>780.000000</td>\n",
       "      <td>27.100000</td>\n",
       "    </tr>\n",
       "    <tr>\n",
       "      <th>max</th>\n",
       "      <td>45.000000</td>\n",
       "      <td>88.300000</td>\n",
       "      <td>180.500000</td>\n",
       "      <td>900.000000</td>\n",
       "      <td>29.960000</td>\n",
       "    </tr>\n",
       "  </tbody>\n",
       "</table>\n",
       "</div>"
      ],
      "text/plain": [
       "              나이        몸무게           키       TOEIC        BMI\n",
       "count   5.000000   5.000000    5.000000    5.000000   5.000000\n",
       "mean   32.600000  74.780000  171.860000  702.000000  25.038000\n",
       "std    10.163661  17.700056    9.552382  176.974574   4.152682\n",
       "min    22.000000  51.300000  157.300000  450.000000  20.670000\n",
       "25%    23.000000  60.100000  170.500000  600.000000  20.730000\n",
       "50%    33.000000  87.100000  170.500000  780.000000  26.730000\n",
       "75%    40.000000  87.100000  180.500000  780.000000  27.100000\n",
       "max    45.000000  88.300000  180.500000  900.000000  29.960000"
      ]
     },
     "execution_count": 56,
     "metadata": {},
     "output_type": "execute_result"
    }
   ],
   "source": [
    "# DataFrame의 통계적 개요 출력 : describe() 함수\n",
    "df.describe()"
   ]
  },
  {
   "cell_type": "markdown",
   "metadata": {},
   "source": [
    "연습문제\n",
    "- 데이터프레임 생성 및 데이터 추가 / 수정 / 삭제\n",
    "(1) 다음과 같이 데이터프레임 생성\n",
    "과목 : 국어, 영어, 수학, 음악, 체육\n",
    "학생 : 손흥민, 김연아, 박지성, 손연재, 박병호\n",
    "점수 : 각각 임의로 입력\n",
    "\n",
    "(2) 영어 점수 변경 : 95 87 75 80 88\n",
    "(3) 열 삭제 : 음악, 체육 삭제\n",
    "(4) 열 추가 : 총점, 평균\n",
    "(5) 행 삭제 : 박지성\n",
    "(6) 행 추가 : 임의로 3개 행 추가\n"
   ]
  },
  {
   "cell_type": "code",
   "execution_count": 57,
   "metadata": {},
   "outputs": [
    {
     "data": {
      "text/html": [
       "<div>\n",
       "<style scoped>\n",
       "    .dataframe tbody tr th:only-of-type {\n",
       "        vertical-align: middle;\n",
       "    }\n",
       "\n",
       "    .dataframe tbody tr th {\n",
       "        vertical-align: top;\n",
       "    }\n",
       "\n",
       "    .dataframe thead th {\n",
       "        text-align: right;\n",
       "    }\n",
       "</style>\n",
       "<table border=\"1\" class=\"dataframe\">\n",
       "  <thead>\n",
       "    <tr style=\"text-align: right;\">\n",
       "      <th></th>\n",
       "      <th>국어</th>\n",
       "      <th>영어</th>\n",
       "      <th>수학</th>\n",
       "      <th>음악</th>\n",
       "      <th>체육</th>\n",
       "    </tr>\n",
       "  </thead>\n",
       "  <tbody>\n",
       "    <tr>\n",
       "      <th>손흥민</th>\n",
       "      <td>50</td>\n",
       "      <td>87</td>\n",
       "      <td>55</td>\n",
       "      <td>65</td>\n",
       "      <td>75</td>\n",
       "    </tr>\n",
       "    <tr>\n",
       "      <th>김연아</th>\n",
       "      <td>60</td>\n",
       "      <td>85</td>\n",
       "      <td>70</td>\n",
       "      <td>80</td>\n",
       "      <td>80</td>\n",
       "    </tr>\n",
       "    <tr>\n",
       "      <th>박지성</th>\n",
       "      <td>70</td>\n",
       "      <td>96</td>\n",
       "      <td>90</td>\n",
       "      <td>98</td>\n",
       "      <td>55</td>\n",
       "    </tr>\n",
       "    <tr>\n",
       "      <th>손연재</th>\n",
       "      <td>80</td>\n",
       "      <td>76</td>\n",
       "      <td>54</td>\n",
       "      <td>95</td>\n",
       "      <td>60</td>\n",
       "    </tr>\n",
       "    <tr>\n",
       "      <th>박병호</th>\n",
       "      <td>90</td>\n",
       "      <td>85</td>\n",
       "      <td>99</td>\n",
       "      <td>75</td>\n",
       "      <td>75</td>\n",
       "    </tr>\n",
       "  </tbody>\n",
       "</table>\n",
       "</div>"
      ],
      "text/plain": [
       "     국어  영어  수학  음악  체육\n",
       "손흥민  50  87  55  65  75\n",
       "김연아  60  85  70  80  80\n",
       "박지성  70  96  90  98  55\n",
       "손연재  80  76  54  95  60\n",
       "박병호  90  85  99  75  75"
      ]
     },
     "execution_count": 57,
     "metadata": {},
     "output_type": "execute_result"
    }
   ],
   "source": [
    "# (1) 데이터프레임 생성\n",
    "data = {'국어':[50,60,70,80,90],\n",
    "        '영어':[87,85,96,76,85],\n",
    "        '수학':[55,70,90,54,99],\n",
    "        '음악':[65,80,98,95,75],\n",
    "        '체육':[75,80,55,60,75]\n",
    "       }\n",
    "\n",
    "index = ['손흥민', '김연아', '박지성', '손연재', '박병호']\n",
    "df_ex = pd.DataFrame(data,index=index)\n",
    "df_ex"
   ]
  },
  {
   "cell_type": "code",
   "execution_count": 58,
   "metadata": {},
   "outputs": [
    {
     "data": {
      "text/html": [
       "<div>\n",
       "<style scoped>\n",
       "    .dataframe tbody tr th:only-of-type {\n",
       "        vertical-align: middle;\n",
       "    }\n",
       "\n",
       "    .dataframe tbody tr th {\n",
       "        vertical-align: top;\n",
       "    }\n",
       "\n",
       "    .dataframe thead th {\n",
       "        text-align: right;\n",
       "    }\n",
       "</style>\n",
       "<table border=\"1\" class=\"dataframe\">\n",
       "  <thead>\n",
       "    <tr style=\"text-align: right;\">\n",
       "      <th></th>\n",
       "      <th>국어</th>\n",
       "      <th>영어</th>\n",
       "      <th>수학</th>\n",
       "      <th>음악</th>\n",
       "      <th>체육</th>\n",
       "    </tr>\n",
       "  </thead>\n",
       "  <tbody>\n",
       "    <tr>\n",
       "      <th>손흥민</th>\n",
       "      <td>50</td>\n",
       "      <td>95</td>\n",
       "      <td>55</td>\n",
       "      <td>65</td>\n",
       "      <td>75</td>\n",
       "    </tr>\n",
       "    <tr>\n",
       "      <th>김연아</th>\n",
       "      <td>60</td>\n",
       "      <td>87</td>\n",
       "      <td>70</td>\n",
       "      <td>80</td>\n",
       "      <td>80</td>\n",
       "    </tr>\n",
       "    <tr>\n",
       "      <th>박지성</th>\n",
       "      <td>70</td>\n",
       "      <td>75</td>\n",
       "      <td>90</td>\n",
       "      <td>98</td>\n",
       "      <td>55</td>\n",
       "    </tr>\n",
       "    <tr>\n",
       "      <th>손연재</th>\n",
       "      <td>80</td>\n",
       "      <td>80</td>\n",
       "      <td>54</td>\n",
       "      <td>95</td>\n",
       "      <td>60</td>\n",
       "    </tr>\n",
       "    <tr>\n",
       "      <th>박병호</th>\n",
       "      <td>90</td>\n",
       "      <td>88</td>\n",
       "      <td>99</td>\n",
       "      <td>75</td>\n",
       "      <td>75</td>\n",
       "    </tr>\n",
       "  </tbody>\n",
       "</table>\n",
       "</div>"
      ],
      "text/plain": [
       "     국어  영어  수학  음악  체육\n",
       "손흥민  50  95  55  65  75\n",
       "김연아  60  87  70  80  80\n",
       "박지성  70  75  90  98  55\n",
       "손연재  80  80  54  95  60\n",
       "박병호  90  88  99  75  75"
      ]
     },
     "execution_count": 58,
     "metadata": {},
     "output_type": "execute_result"
    }
   ],
   "source": [
    "# (2) 영어 점수 변경 : 95 87 75 80 88\n",
    "df_ex['영어']=[95, 87, 75, 80, 88]\n",
    "df_ex"
   ]
  },
  {
   "cell_type": "code",
   "execution_count": 59,
   "metadata": {},
   "outputs": [
    {
     "data": {
      "text/html": [
       "<div>\n",
       "<style scoped>\n",
       "    .dataframe tbody tr th:only-of-type {\n",
       "        vertical-align: middle;\n",
       "    }\n",
       "\n",
       "    .dataframe tbody tr th {\n",
       "        vertical-align: top;\n",
       "    }\n",
       "\n",
       "    .dataframe thead th {\n",
       "        text-align: right;\n",
       "    }\n",
       "</style>\n",
       "<table border=\"1\" class=\"dataframe\">\n",
       "  <thead>\n",
       "    <tr style=\"text-align: right;\">\n",
       "      <th></th>\n",
       "      <th>국어</th>\n",
       "      <th>영어</th>\n",
       "      <th>수학</th>\n",
       "    </tr>\n",
       "  </thead>\n",
       "  <tbody>\n",
       "    <tr>\n",
       "      <th>손흥민</th>\n",
       "      <td>50</td>\n",
       "      <td>95</td>\n",
       "      <td>55</td>\n",
       "    </tr>\n",
       "    <tr>\n",
       "      <th>김연아</th>\n",
       "      <td>60</td>\n",
       "      <td>87</td>\n",
       "      <td>70</td>\n",
       "    </tr>\n",
       "    <tr>\n",
       "      <th>박지성</th>\n",
       "      <td>70</td>\n",
       "      <td>75</td>\n",
       "      <td>90</td>\n",
       "    </tr>\n",
       "    <tr>\n",
       "      <th>손연재</th>\n",
       "      <td>80</td>\n",
       "      <td>80</td>\n",
       "      <td>54</td>\n",
       "    </tr>\n",
       "    <tr>\n",
       "      <th>박병호</th>\n",
       "      <td>90</td>\n",
       "      <td>88</td>\n",
       "      <td>99</td>\n",
       "    </tr>\n",
       "  </tbody>\n",
       "</table>\n",
       "</div>"
      ],
      "text/plain": [
       "     국어  영어  수학\n",
       "손흥민  50  95  55\n",
       "김연아  60  87  70\n",
       "박지성  70  75  90\n",
       "손연재  80  80  54\n",
       "박병호  90  88  99"
      ]
     },
     "execution_count": 59,
     "metadata": {},
     "output_type": "execute_result"
    }
   ],
   "source": [
    "# (3) 열 삭제 : 음악, 체육 삭제\n",
    "df_ex = df_ex.drop(['음악','체육'],axis=1)\n",
    "df_ex"
   ]
  },
  {
   "cell_type": "code",
   "execution_count": 60,
   "metadata": {},
   "outputs": [
    {
     "data": {
      "text/html": [
       "<div>\n",
       "<style scoped>\n",
       "    .dataframe tbody tr th:only-of-type {\n",
       "        vertical-align: middle;\n",
       "    }\n",
       "\n",
       "    .dataframe tbody tr th {\n",
       "        vertical-align: top;\n",
       "    }\n",
       "\n",
       "    .dataframe thead th {\n",
       "        text-align: right;\n",
       "    }\n",
       "</style>\n",
       "<table border=\"1\" class=\"dataframe\">\n",
       "  <thead>\n",
       "    <tr style=\"text-align: right;\">\n",
       "      <th></th>\n",
       "      <th>국어</th>\n",
       "      <th>영어</th>\n",
       "      <th>수학</th>\n",
       "      <th>총점</th>\n",
       "      <th>평균</th>\n",
       "    </tr>\n",
       "  </thead>\n",
       "  <tbody>\n",
       "    <tr>\n",
       "      <th>손흥민</th>\n",
       "      <td>50</td>\n",
       "      <td>95</td>\n",
       "      <td>55</td>\n",
       "      <td>215</td>\n",
       "      <td>71.67</td>\n",
       "    </tr>\n",
       "    <tr>\n",
       "      <th>김연아</th>\n",
       "      <td>60</td>\n",
       "      <td>87</td>\n",
       "      <td>70</td>\n",
       "      <td>270</td>\n",
       "      <td>90.00</td>\n",
       "    </tr>\n",
       "    <tr>\n",
       "      <th>박지성</th>\n",
       "      <td>70</td>\n",
       "      <td>75</td>\n",
       "      <td>90</td>\n",
       "      <td>220</td>\n",
       "      <td>73.33</td>\n",
       "    </tr>\n",
       "    <tr>\n",
       "      <th>손연재</th>\n",
       "      <td>80</td>\n",
       "      <td>80</td>\n",
       "      <td>54</td>\n",
       "      <td>243</td>\n",
       "      <td>81.00</td>\n",
       "    </tr>\n",
       "    <tr>\n",
       "      <th>박병호</th>\n",
       "      <td>90</td>\n",
       "      <td>88</td>\n",
       "      <td>99</td>\n",
       "      <td>218</td>\n",
       "      <td>72.67</td>\n",
       "    </tr>\n",
       "  </tbody>\n",
       "</table>\n",
       "</div>"
      ],
      "text/plain": [
       "     국어  영어  수학   총점     평균\n",
       "손흥민  50  95  55  215  71.67\n",
       "김연아  60  87  70  270  90.00\n",
       "박지성  70  75  90  220  73.33\n",
       "손연재  80  80  54  243  81.00\n",
       "박병호  90  88  99  218  72.67"
      ]
     },
     "execution_count": 60,
     "metadata": {},
     "output_type": "execute_result"
    }
   ],
   "source": [
    "#(4) 열 추가 : 총점, 평균\n",
    "df_ex['총점']=[215,270,220,243,218]\n",
    "df_ex['평균']=round(df_ex['총점']/3, 2)\n",
    "df_ex"
   ]
  },
  {
   "cell_type": "code",
   "execution_count": 61,
   "metadata": {},
   "outputs": [
    {
     "data": {
      "text/html": [
       "<div>\n",
       "<style scoped>\n",
       "    .dataframe tbody tr th:only-of-type {\n",
       "        vertical-align: middle;\n",
       "    }\n",
       "\n",
       "    .dataframe tbody tr th {\n",
       "        vertical-align: top;\n",
       "    }\n",
       "\n",
       "    .dataframe thead th {\n",
       "        text-align: right;\n",
       "    }\n",
       "</style>\n",
       "<table border=\"1\" class=\"dataframe\">\n",
       "  <thead>\n",
       "    <tr style=\"text-align: right;\">\n",
       "      <th></th>\n",
       "      <th>국어</th>\n",
       "      <th>영어</th>\n",
       "      <th>수학</th>\n",
       "      <th>총점</th>\n",
       "      <th>평균</th>\n",
       "    </tr>\n",
       "  </thead>\n",
       "  <tbody>\n",
       "    <tr>\n",
       "      <th>손흥민</th>\n",
       "      <td>50</td>\n",
       "      <td>95</td>\n",
       "      <td>55</td>\n",
       "      <td>215</td>\n",
       "      <td>71.67</td>\n",
       "    </tr>\n",
       "    <tr>\n",
       "      <th>김연아</th>\n",
       "      <td>60</td>\n",
       "      <td>87</td>\n",
       "      <td>70</td>\n",
       "      <td>270</td>\n",
       "      <td>90.00</td>\n",
       "    </tr>\n",
       "    <tr>\n",
       "      <th>손연재</th>\n",
       "      <td>80</td>\n",
       "      <td>80</td>\n",
       "      <td>54</td>\n",
       "      <td>243</td>\n",
       "      <td>81.00</td>\n",
       "    </tr>\n",
       "    <tr>\n",
       "      <th>박병호</th>\n",
       "      <td>90</td>\n",
       "      <td>88</td>\n",
       "      <td>99</td>\n",
       "      <td>218</td>\n",
       "      <td>72.67</td>\n",
       "    </tr>\n",
       "  </tbody>\n",
       "</table>\n",
       "</div>"
      ],
      "text/plain": [
       "     국어  영어  수학   총점     평균\n",
       "손흥민  50  95  55  215  71.67\n",
       "김연아  60  87  70  270  90.00\n",
       "손연재  80  80  54  243  81.00\n",
       "박병호  90  88  99  218  72.67"
      ]
     },
     "execution_count": 61,
     "metadata": {},
     "output_type": "execute_result"
    }
   ],
   "source": [
    "# (5) 행 삭제 : 박지성\n",
    "df_ex = df_ex.drop('박지성')\n",
    "df_ex"
   ]
  },
  {
   "cell_type": "code",
   "execution_count": 62,
   "metadata": {},
   "outputs": [
    {
     "data": {
      "text/html": [
       "<div>\n",
       "<style scoped>\n",
       "    .dataframe tbody tr th:only-of-type {\n",
       "        vertical-align: middle;\n",
       "    }\n",
       "\n",
       "    .dataframe tbody tr th {\n",
       "        vertical-align: top;\n",
       "    }\n",
       "\n",
       "    .dataframe thead th {\n",
       "        text-align: right;\n",
       "    }\n",
       "</style>\n",
       "<table border=\"1\" class=\"dataframe\">\n",
       "  <thead>\n",
       "    <tr style=\"text-align: right;\">\n",
       "      <th></th>\n",
       "      <th>국어</th>\n",
       "      <th>영어</th>\n",
       "      <th>수학</th>\n",
       "      <th>총점</th>\n",
       "      <th>평균</th>\n",
       "    </tr>\n",
       "  </thead>\n",
       "  <tbody>\n",
       "    <tr>\n",
       "      <th>손흥민</th>\n",
       "      <td>50.0</td>\n",
       "      <td>95.0</td>\n",
       "      <td>55.0</td>\n",
       "      <td>215.0</td>\n",
       "      <td>71.67</td>\n",
       "    </tr>\n",
       "    <tr>\n",
       "      <th>김연아</th>\n",
       "      <td>60.0</td>\n",
       "      <td>87.0</td>\n",
       "      <td>70.0</td>\n",
       "      <td>270.0</td>\n",
       "      <td>90.00</td>\n",
       "    </tr>\n",
       "    <tr>\n",
       "      <th>손연재</th>\n",
       "      <td>80.0</td>\n",
       "      <td>80.0</td>\n",
       "      <td>54.0</td>\n",
       "      <td>243.0</td>\n",
       "      <td>81.00</td>\n",
       "    </tr>\n",
       "    <tr>\n",
       "      <th>박병호</th>\n",
       "      <td>90.0</td>\n",
       "      <td>88.0</td>\n",
       "      <td>99.0</td>\n",
       "      <td>218.0</td>\n",
       "      <td>72.67</td>\n",
       "    </tr>\n",
       "    <tr>\n",
       "      <th>홍길동</th>\n",
       "      <td>87.0</td>\n",
       "      <td>75.0</td>\n",
       "      <td>86.0</td>\n",
       "      <td>248.0</td>\n",
       "      <td>82.66</td>\n",
       "    </tr>\n",
       "    <tr>\n",
       "      <th>이몽룡</th>\n",
       "      <td>90.0</td>\n",
       "      <td>95.0</td>\n",
       "      <td>100.0</td>\n",
       "      <td>285.0</td>\n",
       "      <td>95.00</td>\n",
       "    </tr>\n",
       "    <tr>\n",
       "      <th>성춘향</th>\n",
       "      <td>100.0</td>\n",
       "      <td>100.0</td>\n",
       "      <td>100.0</td>\n",
       "      <td>300.0</td>\n",
       "      <td>100.00</td>\n",
       "    </tr>\n",
       "  </tbody>\n",
       "</table>\n",
       "</div>"
      ],
      "text/plain": [
       "        국어     영어     수학     총점      평균\n",
       "손흥민   50.0   95.0   55.0  215.0   71.67\n",
       "김연아   60.0   87.0   70.0  270.0   90.00\n",
       "손연재   80.0   80.0   54.0  243.0   81.00\n",
       "박병호   90.0   88.0   99.0  218.0   72.67\n",
       "홍길동   87.0   75.0   86.0  248.0   82.66\n",
       "이몽룡   90.0   95.0  100.0  285.0   95.00\n",
       "성춘향  100.0  100.0  100.0  300.0  100.00"
      ]
     },
     "execution_count": 62,
     "metadata": {},
     "output_type": "execute_result"
    }
   ],
   "source": [
    "# (6) 행 추가 : 임의로 3개 행 추가\n",
    "df_ex.loc['홍길동']=[87, 75, 86, 248, 82.66]\n",
    "df_ex.loc['이몽룡']=[90, 95, 100, 285, 95]\n",
    "df_ex.loc['성춘향']=[100, 100, 100, 300, 100]\n",
    "df_ex"
   ]
  },
  {
   "cell_type": "code",
   "execution_count": null,
   "metadata": {},
   "outputs": [],
   "source": []
  }
 ],
 "metadata": {
  "kernelspec": {
   "display_name": "Python 3 (ipykernel)",
   "language": "python",
   "name": "python3"
  },
  "language_info": {
   "codemirror_mode": {
    "name": "ipython",
    "version": 3
   },
   "file_extension": ".py",
   "mimetype": "text/x-python",
   "name": "python",
   "nbconvert_exporter": "python",
   "pygments_lexer": "ipython3",
   "version": "3.8.10"
  }
 },
 "nbformat": 4,
 "nbformat_minor": 4
}
